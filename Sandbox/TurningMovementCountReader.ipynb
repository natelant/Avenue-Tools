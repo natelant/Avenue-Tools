{
 "cells": [
  {
   "cell_type": "code",
   "execution_count": 1,
   "metadata": {},
   "outputs": [],
   "source": [
    "import pandas as pd\n",
    "import plotly.express as px\n",
    "import datetime\n",
    "import matplotlib.pyplot as plt"
   ]
  },
  {
   "cell_type": "code",
   "execution_count": 2,
   "metadata": {},
   "outputs": [
    {
     "data": {
      "text/plain": [
       "{'7800':          Time  EBL  EBT  EBR  SBL  SBT\n",
       " 0    00:00:00    2    5    2   12    7\n",
       " 1    00:15:00    2    4    0    9    7\n",
       " 2    00:30:00    3    1    1    0    3\n",
       " 3    00:45:00    0    1    1    3    5\n",
       " 4    01:00:00    4    6    0    9    5\n",
       " ..        ...  ...  ...  ...  ...  ...\n",
       " 955  22:45:00    8    8    1   14   35\n",
       " 956  23:00:00   12    5    3    8   10\n",
       " 957  23:15:00    6    1    1   17   14\n",
       " 958  23:30:00    5    6    2    9   13\n",
       " 959  23:45:00    4    6    1    3   18\n",
       " \n",
       " [960 rows x 6 columns],\n",
       " '7801':          Time  EBL  EBT  EBR  WBL  WBT  WBR  NBL  NBT  NBR  SBL  SBT  SBR\n",
       " 0    00:00:00    2    1    0    1    0    0    1    5    0    0   20    7\n",
       " 1    00:15:00    2    0    0    0    0    0    2    5    0    0   22    5\n",
       " 2    00:30:00    2    0    0    0    0    0    0    8    0    0   11   10\n",
       " 3    00:45:00    1    0    0    2    1    0    0    4    0    0   16    3\n",
       " 4    01:00:00    1    1    0    0    0    0    0    2    0    0   17    4\n",
       " ..        ...  ...  ...  ...  ...  ...  ...  ...  ...  ...  ...  ...  ...\n",
       " 859  22:45:00    4    2    0    1    0    0    6   17    1    0   42   14\n",
       " 860  23:00:00    0    0    0    0    0    0    0    0    0    0    4    0\n",
       " 861  23:15:00    0    0    0    0    0    0    0    0    0    0    0    0\n",
       " 862  23:30:00    0    0    0    0    0    0    0    0    0    0    0    0\n",
       " 863  23:45:00    2    0    1    0    0    0    0    1    0    0    8    4\n",
       " \n",
       " [864 rows x 13 columns],\n",
       " '7802':          Time  EBL  EBTR  WBL  WBT  WBR  NBL  NBT  SBL  SBT  SBR\n",
       " 0    00:00:00    0     0    0   17    0    2   15    0   21    0\n",
       " 1    00:15:00    0     1    0   10    0    0   12    0   20    2\n",
       " 2    00:30:00    0     5    0   16    0    3   13    0   18    1\n",
       " 3    00:45:00    0     1    0   12    0    1   11    0   19    2\n",
       " 4    01:00:00    0     0    0    4    0    0    5    0   23    2\n",
       " ..        ...  ...   ...  ...  ...  ...  ...  ...  ...  ...  ...\n",
       " 859  22:45:00    0     1    0    0    0    3   37    0   70    3\n",
       " 860  23:00:00    0     0    0    0    0    0    0    0    0    0\n",
       " 861  23:15:00    0     0    0    0    0    0    0    0    0    0\n",
       " 862  23:30:00    0     0    0    0    0    0    0    0    0    0\n",
       " 863  23:45:00    0     1    0    0    0    0    6    0    6    1\n",
       " \n",
       " [864 rows x 11 columns],\n",
       " '7803':          Time  EBL  EBT  EBR  WBL  WBT  WBR  NBL  NBT  NBR  SBL  SBT  SBR\n",
       " 0    00:00:00    2    0    1    0    0    0    0    7    0    0    7    3\n",
       " 1    00:15:00    2    0    1    0    0    0    0    5    0    0    6    2\n",
       " 2    00:30:00    2    0    1    0    0    0    0    3    0    0    3    2\n",
       " 3    00:45:00    4    0    0    0    0    0    1    5    0    0    8    3\n",
       " 4    01:00:00    0    0    0    0    0    0    0    3    0    0    8    3\n",
       " ..        ...  ...  ...  ...  ...  ...  ...  ...  ...  ...  ...  ...  ...\n",
       " 859  22:45:00    3    0    3    0    1    2    5   12    2    1   24   10\n",
       " 860  23:00:00    1    1    5    0    0    0    4   12    0    0   19    5\n",
       " 861  23:15:00    1    0    1    0    3    0    4    7    0    0   23    6\n",
       " 862  23:30:00    3    0    1    0    0    0    7   10    0    0   22    3\n",
       " 863  23:45:00    3    0    4    0    0    0    2    5    0    1   21    4\n",
       " \n",
       " [864 rows x 13 columns],\n",
       " '7804':          Time  EBL  EBT  EBR  WBL  WBT  WBR  NBL  NBT  NBR  SBL  SBT  SBR\n",
       " 0    00:00:00    1    0    0    0    1    0    2   13    1    1   18    2\n",
       " 1    00:15:00    0    0    0    1    0    0    1    7    1    1   11    0\n",
       " 2    00:30:00    0    4    0    0    1    2    2   13    0    0   13    0\n",
       " 3    00:45:00    0    0    0    0    1    0    1    7    0    0    9    0\n",
       " 4    01:00:00    0    1    0    0    0    0    1    4    0    0    9    0\n",
       " ..        ...  ...  ...  ...  ...  ...  ...  ...  ...  ...  ...  ...  ...\n",
       " 859  22:45:00    2    0    1    0    0    2    5   29    1    3   37    5\n",
       " 860  23:00:00    2    1    0    0    1    2    3   25    1    1   33    3\n",
       " 861  23:15:00    0    0    2    0    1    0    4   18    0    0   33    2\n",
       " 862  23:30:00    1    1    0    1    1    1    5   18    1    1   34    4\n",
       " 863  23:45:00    1    0    1    0    1    0    3   16    2    1   21    2\n",
       " \n",
       " [864 rows x 13 columns],\n",
       " '7805':          Time  EBL  EBT  EBR  WBL  WBT  WBR  NBL  NBT  NBR  SBL  SBT  SBR\n",
       " 0    00:00:00    0    0    0    0    0    2    0   13    0    0   20    0\n",
       " 1    00:15:00    0    0    0    1    0    0    0    9    0    0   14    0\n",
       " 2    00:30:00    0    0    0    0    0    0    0    8    1    0   10    0\n",
       " 3    00:45:00    0    0    0    0    0    0    0    2    0    0   10    3\n",
       " 4    01:00:00    0    0    0    0    0    0    0    8    0    0   13    0\n",
       " ..        ...  ...  ...  ...  ...  ...  ...  ...  ...  ...  ...  ...  ...\n",
       " 859  22:45:00    0    0    3    2    1    3    1   29    1    9   46    1\n",
       " 860  23:00:00    2    0    0    0    0    1    3   30    1    2   42    2\n",
       " 861  23:15:00    1    0    1    0    1    4    0   19    0    5   37    0\n",
       " 862  23:30:00    1    0    0    0    0    0    0   22    0    3   42    3\n",
       " 863  23:45:00    1    1    2    0    0    0    1   23    0    1   29    0\n",
       " \n",
       " [864 rows x 13 columns],\n",
       " '7811':          Time  EBL  EBT  EBR  WBL  WBT  WBR  NBL  NBT  NBR  SBL  SBT  SBR\n",
       " 0    00:00:00    0    0    0    2    0    1    0   14    0    0   12    0\n",
       " 1    00:15:00    0    0    0    0    0    0    0    9    0    2    7    0\n",
       " 2    00:30:00    0    0    0    1    0    0    0   10    0    0    4    0\n",
       " 3    00:45:00    0    1    0    0    0    0    0    6    0    0    7    0\n",
       " 4    01:00:00    0    0    0    0    0    1    0    7    1    0    8    0\n",
       " ..        ...  ...  ...  ...  ...  ...  ...  ...  ...  ...  ...  ...  ...\n",
       " 859  22:45:00    0    0    1    0    0    1    0   26    0    0   25    1\n",
       " 860  23:00:00    1    0    1    0    0    0    1   23    0    1   24    1\n",
       " 861  23:15:00    2    0    1    4    0    0    1   16    1    0   22    0\n",
       " 862  23:30:00    0    0    0    1    0    2    0   22    0    1   18    0\n",
       " 863  23:45:00    0    0    1    0    0    2    0   20    0    1   12    1\n",
       " \n",
       " [864 rows x 13 columns],\n",
       " '7812':          Time  EBL  EBR  NBL  NBT  WBT\n",
       " 0    00:00:00    4    2    2    8    4\n",
       " 1    00:15:00    3    2    3    5    7\n",
       " 2    00:30:00    4    3    2    7    6\n",
       " 3    00:45:00    3    2    3    6    5\n",
       " 4    01:00:00    1    2    2    2    5\n",
       " ..        ...  ...  ...  ...  ...  ...\n",
       " 859  22:45:00    5    9   18   16   26\n",
       " 860  23:00:00    7    5   12   15   22\n",
       " 861  23:15:00    4   14   12   15   21\n",
       " 862  23:30:00    5    5    4    9   13\n",
       " 863  23:45:00    9    6    7    9   17\n",
       " \n",
       " [864 rows x 6 columns],\n",
       " '7813':          Time  EBL  EBT  EBR  WBL  WBTR  NBL  NBT  NBTR  SBL  SBT  SBR\n",
       " 0    00:00:00    1    0    2    0     2    1    6     8    0   20    2\n",
       " 1    00:15:00    4    0    1    0     0    2    5     9    2   12    2\n",
       " 2    00:30:00    2    0    2    2     1    0    6     7    1   18    1\n",
       " 3    00:45:00    0    0    1    1     1    0    1     4    0    7    2\n",
       " 4    01:00:00    2    0    3    1     2    2    2     6    0   11    0\n",
       " ..        ...  ...  ...  ...  ...   ...  ...  ...   ...  ...  ...  ...\n",
       " 859  22:45:00    8    1   15    3     9    4    6    15    1   34    5\n",
       " 860  23:00:00   10    2   15    3     2    2   12    17    5   53    1\n",
       " 861  23:15:00    6    1    5    1     1    4   16    10    3   29    4\n",
       " 862  23:30:00    2    1    6    1     1    3    6     7    1   23    1\n",
       " 863  23:45:00    1    0    3    3     1    2   13    11    2   24    0\n",
       " \n",
       " [864 rows x 12 columns],\n",
       " '7814':          Time  EBL  EBTR  WBL  WBT  WBR  NBL  NBT  NBR  SBL  SBT  SBR\n",
       " 0    00:00:00    1     3    1    4    6    6   10    2   11   17    4\n",
       " 1    00:15:00    2     0    3    4    4    2   13    3    7   15    0\n",
       " 2    00:30:00    0     5    1    4    2    5   12    0   11   14    3\n",
       " 3    00:45:00    0     0    2    0    0    1    5    2    4    6    0\n",
       " 4    01:00:00    0     1    1    0    3    3    8    1    6   13    4\n",
       " ..        ...  ...   ...  ...  ...  ...  ...  ...  ...  ...  ...  ...\n",
       " 859  22:45:00    3     6    6    5    6    8   33   10   31   56    5\n",
       " 860  23:00:00    1     6    6    4    1   14   30    5   16   54    3\n",
       " 861  23:15:00    0     3    7    4    8   18   22    2   18   36    5\n",
       " 862  23:30:00    3     3    6    2    4   15   20    3   14   31    4\n",
       " 863  23:45:00    0     5    5    4    5    8   18    2   17   27    0\n",
       " \n",
       " [864 rows x 12 columns],\n",
       " '7815':          Time  EBTL  EBR  WBTL  WBR  NBL  NBT  NBTR  SBL  SBT  SBTR\n",
       " 0    00:00:00     1    0     0    0    0    5    10    1   10    20\n",
       " 1    00:15:00     2    1     0    0    1    6     9    0    8     9\n",
       " 2    00:30:00     0    0     0    0    1    6    11    0   14    12\n",
       " 3    00:45:00     1    0     1    0    0    1     8    0    6     4\n",
       " 4    01:00:00     2    1     0    0    0    3     7    0    8    10\n",
       " ..        ...   ...  ...   ...  ...  ...  ...   ...  ...  ...   ...\n",
       " 859  22:45:00     3    0     3    0    5   15    27    0   32    32\n",
       " 860  23:00:00     2    2     4    1    2   16    15    7   35    30\n",
       " 861  23:15:00     2    2     4    1    2   11    12    1   28    24\n",
       " 862  23:30:00     2    1     2    1    1    8    13    1   22    24\n",
       " 863  23:45:00     3    0     0    0    1    8     8    1   19    14\n",
       " \n",
       " [864 rows x 11 columns],\n",
       " '7816':          Time  EBL  EBTR  WBL  WBTR  NBL  NBT  NBTR  SBL  SBT  SBTR\n",
       " 0    00:00:00    0     2    1     6    0    6     6    1    7    13\n",
       " 1    00:15:00    0     0    2     2    0    6     9    3    4     7\n",
       " 2    00:30:00    0     1    1     0    0    5     9    2    9    10\n",
       " 3    00:45:00    1     1    1     1    0    2     5    1    8     2\n",
       " 4    01:00:00    1     0    0     2    0    2     8    3    3     6\n",
       " ..        ...  ...   ...  ...   ...  ...  ...   ...  ...  ...   ...\n",
       " 859  22:45:00    2     3    2     5    1   20    24    2   18    28\n",
       " 860  23:00:00    1     1    2     5    1   14    15    5   18    32\n",
       " 861  23:15:00    0     3    0     4    1   12    13    2   12    28\n",
       " 862  23:30:00    2     1    3     3    0    9     8    4    7    21\n",
       " 863  23:45:00    0     0    1     5    1    7     5    5    6    16\n",
       " \n",
       " [864 rows x 11 columns],\n",
       " '7818':          Time  EBL  EBTR  WBL  WBTR  NBL  NBT  NBR  SBL  SBT  SBTR\n",
       " 0    00:00:00    0     2    0     1    0   12    0    0   11     5\n",
       " 1    00:15:00    0     0    0     3    0   14    0    0    4    10\n",
       " 2    00:30:00    0     2    0     1    0   11    0    1    5     5\n",
       " 3    00:45:00    0     0    0     0    0    7    0    3    6     3\n",
       " 4    01:00:00    0     0    0     0    1    5    0    0    2     6\n",
       " ..        ...  ...   ...  ...   ...  ...  ...  ...  ...  ...   ...\n",
       " 859  22:45:00    4     4    0     3    1   31    0    6   25    19\n",
       " 860  23:00:00    2     0    1     7    2   23    2    3   28    28\n",
       " 861  23:15:00    1     1    2     4    2   21    0    0   20    17\n",
       " 862  23:30:00    2     2    0     5    1   12    0    1   14    16\n",
       " 863  23:45:00    1     2    0     1    2   10    1    1   10     9\n",
       " \n",
       " [864 rows x 11 columns],\n",
       " '7819':          Time  EBL  EBTR  WBL  WBT  WBR  NBL  NBT  NBTR  SBL  SBT  SBTR\n",
       " 0    00:00:00    0     2    0    1    2    1    6     6    2   11     6\n",
       " 1    00:15:00    2     1    3    0    0    1    5     5    3    2     9\n",
       " 2    00:30:00    1     0    1    1    0    0    5     4    2    4     7\n",
       " 3    00:45:00    1     0    0    0    1    0    3     3    0    6     3\n",
       " 4    01:00:00    0     0    0    0    0    1    2     5    0    4     5\n",
       " ..        ...  ...   ...  ...  ...  ...  ...  ...   ...  ...  ...   ...\n",
       " 859  22:45:00    2     2    2    5    3    1   15     3    4   32    10\n",
       " 860  23:00:00    1     3    1    3    4    1   16     5    7   28     5\n",
       " 861  23:15:00    5     3    0    2    2    0   10     3    7   29     7\n",
       " 862  23:30:00    1     0    3    1    1    0    6     3    1   16     4\n",
       " 863  23:45:00    1     1    0    3    0    0    7     0    2   15     2\n",
       " \n",
       " [864 rows x 12 columns]}"
      ]
     },
     "execution_count": 2,
     "metadata": {},
     "output_type": "execute_result"
    }
   ],
   "source": [
    "# Read the Excel file into a dictionary of data frames, with sheet names as keys\n",
    "xls = pd.read_excel('data/TurningMovementCounts.xlsx', sheet_name=None)\n",
    "xls"
   ]
  },
  {
   "cell_type": "code",
   "execution_count": 3,
   "metadata": {},
   "outputs": [],
   "source": [
    "# Initialize an empty list to store modified data frames\n",
    "dfs = []\n",
    "\n",
    "# Iterate through each sheet\n",
    "for sheet_name, df in xls.items():\n",
    "    # Add a new column \"ID\" with the sheet name\n",
    "    df['ID'] = sheet_name\n",
    "    # Add the data frame to the list\n",
    "    dfs.append(df)\n"
   ]
  },
  {
   "cell_type": "code",
   "execution_count": 4,
   "metadata": {},
   "outputs": [],
   "source": [
    "# Concatenate all data frames along columns, filling missing values with NA\n",
    "result = pd.concat(dfs, ignore_index=True)\n",
    "\n"
   ]
  },
  {
   "cell_type": "code",
   "execution_count": 5,
   "metadata": {},
   "outputs": [],
   "source": [
    "longdata = result.drop_duplicates().\\\n",
    "    melt(id_vars=['ID', 'Time'], var_name='Movement', value_name='Volume')\n"
   ]
  },
  {
   "cell_type": "code",
   "execution_count": 6,
   "metadata": {},
   "outputs": [
    {
     "name": "stdout",
     "output_type": "stream",
     "text": [
      "Number of rows with zeros: 19396\n"
     ]
    }
   ],
   "source": [
    "# Find out how many rows contain zeros\n",
    "rows_with_zeros = (longdata == 0).sum(axis=1)\n",
    "print(\"Number of rows with zeros:\", (rows_with_zeros > 0).sum())"
   ]
  },
  {
   "cell_type": "code",
   "execution_count": 7,
   "metadata": {},
   "outputs": [],
   "source": [
    "# Define a function to determine the value of the \"NBSB\" column\n",
    "def determine_direction(Movement\t):\n",
    "    if 'N' in Movement\t:\n",
    "        return 'northbound'\n",
    "    elif 'S' in Movement\t:\n",
    "        return 'southbound'\n",
    "    else:\n",
    "        return 'other'"
   ]
  },
  {
   "cell_type": "code",
   "execution_count": 8,
   "metadata": {},
   "outputs": [],
   "source": [
    "longdata['NBSB'] = longdata['Movement'].apply(determine_direction)\n",
    "\n"
   ]
  },
  {
   "cell_type": "code",
   "execution_count": 9,
   "metadata": {},
   "outputs": [],
   "source": [
    "# Remove rows with zeros\n",
    "df_without_zeros = longdata[(longdata != 0).all(axis=1)]\n"
   ]
  },
  {
   "cell_type": "code",
   "execution_count": 10,
   "metadata": {},
   "outputs": [
    {
     "data": {
      "text/html": [
       "<div>\n",
       "<style scoped>\n",
       "    .dataframe tbody tr th:only-of-type {\n",
       "        vertical-align: middle;\n",
       "    }\n",
       "\n",
       "    .dataframe tbody tr th {\n",
       "        vertical-align: top;\n",
       "    }\n",
       "\n",
       "    .dataframe thead th {\n",
       "        text-align: right;\n",
       "    }\n",
       "</style>\n",
       "<table border=\"1\" class=\"dataframe\">\n",
       "  <thead>\n",
       "    <tr style=\"text-align: right;\">\n",
       "      <th></th>\n",
       "      <th>ID</th>\n",
       "      <th>Time</th>\n",
       "      <th>NBSB</th>\n",
       "      <th>Volume</th>\n",
       "    </tr>\n",
       "  </thead>\n",
       "  <tbody>\n",
       "    <tr>\n",
       "      <th>0</th>\n",
       "      <td>7800</td>\n",
       "      <td>00:00:00</td>\n",
       "      <td>other</td>\n",
       "      <td>10.333333</td>\n",
       "    </tr>\n",
       "    <tr>\n",
       "      <th>1</th>\n",
       "      <td>7800</td>\n",
       "      <td>00:00:00</td>\n",
       "      <td>southbound</td>\n",
       "      <td>18.600000</td>\n",
       "    </tr>\n",
       "    <tr>\n",
       "      <th>2</th>\n",
       "      <td>7800</td>\n",
       "      <td>00:15:00</td>\n",
       "      <td>other</td>\n",
       "      <td>10.411111</td>\n",
       "    </tr>\n",
       "    <tr>\n",
       "      <th>3</th>\n",
       "      <td>7800</td>\n",
       "      <td>00:15:00</td>\n",
       "      <td>southbound</td>\n",
       "      <td>18.300000</td>\n",
       "    </tr>\n",
       "    <tr>\n",
       "      <th>4</th>\n",
       "      <td>7800</td>\n",
       "      <td>00:30:00</td>\n",
       "      <td>other</td>\n",
       "      <td>10.800000</td>\n",
       "    </tr>\n",
       "    <tr>\n",
       "      <th>...</th>\n",
       "      <td>...</td>\n",
       "      <td>...</td>\n",
       "      <td>...</td>\n",
       "      <td>...</td>\n",
       "    </tr>\n",
       "    <tr>\n",
       "      <th>3834</th>\n",
       "      <td>7819</td>\n",
       "      <td>23:30:00</td>\n",
       "      <td>other</td>\n",
       "      <td>10.251190</td>\n",
       "    </tr>\n",
       "    <tr>\n",
       "      <th>3835</th>\n",
       "      <td>7819</td>\n",
       "      <td>23:30:00</td>\n",
       "      <td>southbound</td>\n",
       "      <td>25.611111</td>\n",
       "    </tr>\n",
       "    <tr>\n",
       "      <th>3836</th>\n",
       "      <td>7819</td>\n",
       "      <td>23:45:00</td>\n",
       "      <td>northbound</td>\n",
       "      <td>14.708333</td>\n",
       "    </tr>\n",
       "    <tr>\n",
       "      <th>3837</th>\n",
       "      <td>7819</td>\n",
       "      <td>23:45:00</td>\n",
       "      <td>other</td>\n",
       "      <td>8.430556</td>\n",
       "    </tr>\n",
       "    <tr>\n",
       "      <th>3838</th>\n",
       "      <td>7819</td>\n",
       "      <td>23:45:00</td>\n",
       "      <td>southbound</td>\n",
       "      <td>24.777778</td>\n",
       "    </tr>\n",
       "  </tbody>\n",
       "</table>\n",
       "<p>3839 rows × 4 columns</p>\n",
       "</div>"
      ],
      "text/plain": [
       "        ID      Time        NBSB     Volume\n",
       "0     7800  00:00:00       other  10.333333\n",
       "1     7800  00:00:00  southbound  18.600000\n",
       "2     7800  00:15:00       other  10.411111\n",
       "3     7800  00:15:00  southbound  18.300000\n",
       "4     7800  00:30:00       other  10.800000\n",
       "...    ...       ...         ...        ...\n",
       "3834  7819  23:30:00       other  10.251190\n",
       "3835  7819  23:30:00  southbound  25.611111\n",
       "3836  7819  23:45:00  northbound  14.708333\n",
       "3837  7819  23:45:00       other   8.430556\n",
       "3838  7819  23:45:00  southbound  24.777778\n",
       "\n",
       "[3839 rows x 4 columns]"
      ]
     },
     "execution_count": 10,
     "metadata": {},
     "output_type": "execute_result"
    }
   ],
   "source": [
    "# mean here because it is an average of multiple days in the data. Average per 15 min bin\n",
    "cleandata = df_without_zeros.groupby(['ID', 'Time', 'Movement', 'NBSB'])['Volume'].\\\n",
    "    mean().\\\n",
    "    reset_index().\\\n",
    "    dropna(subset=['Volume']).\\\n",
    "    groupby(['ID', 'Time', 'NBSB'])['Volume'].\\\n",
    "    sum().\\\n",
    "    reset_index().\\\n",
    "    dropna(subset=['Volume'])\n",
    "cleandata"
   ]
  },
  {
   "cell_type": "code",
   "execution_count": 11,
   "metadata": {},
   "outputs": [],
   "source": [
    "am_data = cleandata[(cleandata['Time'] >= datetime.time(6, 0)) & (cleandata['Time'] <= datetime.time(9, 0))]\n",
    "md_data = cleandata[(cleandata['Time'] >= datetime.time(9, 0)) & (cleandata['Time'] <= datetime.time(15, 0))]\n",
    "pm_data = cleandata[(cleandata['Time'] >= datetime.time(15, 0)) & (cleandata['Time'] <= datetime.time(19, 0))]"
   ]
  },
  {
   "cell_type": "code",
   "execution_count": 12,
   "metadata": {},
   "outputs": [
    {
     "data": {
      "text/html": [
       "<div>\n",
       "<style scoped>\n",
       "    .dataframe tbody tr th:only-of-type {\n",
       "        vertical-align: middle;\n",
       "    }\n",
       "\n",
       "    .dataframe tbody tr th {\n",
       "        vertical-align: top;\n",
       "    }\n",
       "\n",
       "    .dataframe thead th {\n",
       "        text-align: right;\n",
       "    }\n",
       "</style>\n",
       "<table border=\"1\" class=\"dataframe\">\n",
       "  <thead>\n",
       "    <tr style=\"text-align: right;\">\n",
       "      <th>NBSB</th>\n",
       "      <th>northbound</th>\n",
       "      <th>southbound</th>\n",
       "    </tr>\n",
       "    <tr>\n",
       "      <th>ID</th>\n",
       "      <th></th>\n",
       "      <th></th>\n",
       "    </tr>\n",
       "  </thead>\n",
       "  <tbody>\n",
       "    <tr>\n",
       "      <th>7800</th>\n",
       "      <td>NaN</td>\n",
       "      <td>966.300000</td>\n",
       "    </tr>\n",
       "    <tr>\n",
       "      <th>7801</th>\n",
       "      <td>3783.263889</td>\n",
       "      <td>1860.531746</td>\n",
       "    </tr>\n",
       "    <tr>\n",
       "      <th>7802</th>\n",
       "      <td>5029.333333</td>\n",
       "      <td>2019.601984</td>\n",
       "    </tr>\n",
       "    <tr>\n",
       "      <th>7803</th>\n",
       "      <td>2995.047619</td>\n",
       "      <td>1608.833333</td>\n",
       "    </tr>\n",
       "    <tr>\n",
       "      <th>7804</th>\n",
       "      <td>3851.611111</td>\n",
       "      <td>2096.517857</td>\n",
       "    </tr>\n",
       "    <tr>\n",
       "      <th>7805</th>\n",
       "      <td>4069.222222</td>\n",
       "      <td>2590.305556</td>\n",
       "    </tr>\n",
       "    <tr>\n",
       "      <th>7811</th>\n",
       "      <td>3673.166667</td>\n",
       "      <td>2081.333333</td>\n",
       "    </tr>\n",
       "    <tr>\n",
       "      <th>7812</th>\n",
       "      <td>2586.444444</td>\n",
       "      <td>NaN</td>\n",
       "    </tr>\n",
       "    <tr>\n",
       "      <th>7813</th>\n",
       "      <td>3893.222222</td>\n",
       "      <td>1966.294444</td>\n",
       "    </tr>\n",
       "    <tr>\n",
       "      <th>7814</th>\n",
       "      <td>3232.666667</td>\n",
       "      <td>2195.333333</td>\n",
       "    </tr>\n",
       "    <tr>\n",
       "      <th>7815</th>\n",
       "      <td>3063.230159</td>\n",
       "      <td>2203.863095</td>\n",
       "    </tr>\n",
       "    <tr>\n",
       "      <th>7816</th>\n",
       "      <td>2839.297222</td>\n",
       "      <td>1890.611111</td>\n",
       "    </tr>\n",
       "    <tr>\n",
       "      <th>7818</th>\n",
       "      <td>2484.838889</td>\n",
       "      <td>1772.694444</td>\n",
       "    </tr>\n",
       "    <tr>\n",
       "      <th>7819</th>\n",
       "      <td>1920.638889</td>\n",
       "      <td>1792.388889</td>\n",
       "    </tr>\n",
       "  </tbody>\n",
       "</table>\n",
       "</div>"
      ],
      "text/plain": [
       "NBSB   northbound   southbound\n",
       "ID                            \n",
       "7800          NaN   966.300000\n",
       "7801  3783.263889  1860.531746\n",
       "7802  5029.333333  2019.601984\n",
       "7803  2995.047619  1608.833333\n",
       "7804  3851.611111  2096.517857\n",
       "7805  4069.222222  2590.305556\n",
       "7811  3673.166667  2081.333333\n",
       "7812  2586.444444          NaN\n",
       "7813  3893.222222  1966.294444\n",
       "7814  3232.666667  2195.333333\n",
       "7815  3063.230159  2203.863095\n",
       "7816  2839.297222  1890.611111\n",
       "7818  2484.838889  1772.694444\n",
       "7819  1920.638889  1792.388889"
      ]
     },
     "execution_count": 12,
     "metadata": {},
     "output_type": "execute_result"
    }
   ],
   "source": [
    "am_data.groupby(['ID', 'NBSB'])['Volume'].\\\n",
    "    sum().\\\n",
    "    reset_index().\\\n",
    "    pivot(index='ID', columns='NBSB', values='Volume').\\\n",
    "    drop(columns='other')"
   ]
  },
  {
   "cell_type": "code",
   "execution_count": 13,
   "metadata": {},
   "outputs": [
    {
     "name": "stderr",
     "output_type": "stream",
     "text": [
      "C:\\Users\\nlant\\AppData\\Local\\Temp\\ipykernel_30136\\226943624.py:2: SettingWithCopyWarning: \n",
      "A value is trying to be set on a copy of a slice from a DataFrame\n",
      "\n",
      "See the caveats in the documentation: https://pandas.pydata.org/pandas-docs/stable/user_guide/indexing.html#returning-a-view-versus-a-copy\n",
      "  am_data.sort_values(by='Time', inplace=True)\n"
     ]
    },
    {
     "data": {
      "application/vnd.plotly.v1+json": {
       "config": {
        "plotlyServerURL": "https://plot.ly"
       },
       "data": [
        {
         "hovertemplate": "ID=7800<br>Time=%{x}<br>Volume=%{y}<extra></extra>",
         "legendgroup": "7800",
         "line": {
          "color": "#636efa",
          "dash": "solid"
         },
         "marker": {
          "symbol": "circle"
         },
         "mode": "lines",
         "name": "7800",
         "orientation": "v",
         "showlegend": true,
         "type": "scatter",
         "x": [
          "06:00:00",
          "06:15:00",
          "06:30:00",
          "06:45:00",
          "07:00:00",
          "07:15:00",
          "07:30:00",
          "07:45:00",
          "08:00:00",
          "08:15:00",
          "08:30:00",
          "08:45:00",
          "09:00:00"
         ],
         "xaxis": "x",
         "y": [
          50.888888888888886,
          62.36666666666667,
          82.8,
          96.9,
          81.26666666666667,
          88.52222222222221,
          106.8111111111111,
          103.3,
          102.29999999999998,
          100.9,
          98.89999999999999,
          104.69999999999999,
          121.6
         ],
         "yaxis": "y"
        },
        {
         "hovertemplate": "ID=7801<br>Time=%{x}<br>Volume=%{y}<extra></extra>",
         "legendgroup": "7801",
         "line": {
          "color": "#EF553B",
          "dash": "solid"
         },
         "marker": {
          "symbol": "circle"
         },
         "mode": "lines",
         "name": "7801",
         "orientation": "v",
         "showlegend": true,
         "type": "scatter",
         "x": [
          "06:00:00",
          "06:15:00",
          "06:30:00",
          "06:45:00",
          "07:00:00",
          "07:15:00",
          "07:30:00",
          "07:45:00",
          "08:00:00",
          "08:15:00",
          "08:30:00",
          "08:45:00",
          "09:00:00"
         ],
         "xaxis": "x",
         "y": [
          451.55555555555554,
          574.6793650793651,
          580.8166666666666,
          563.1805555555555,
          572.4361111111111,
          662.4027777777778,
          643.0396825396825,
          596.8472222222223,
          525.9444444444445,
          507.33333333333326,
          503.1587301587301,
          455.27777777777777,
          413.18055555555554
         ],
         "yaxis": "y"
        },
        {
         "hovertemplate": "ID=7802<br>Time=%{x}<br>Volume=%{y}<extra></extra>",
         "legendgroup": "7802",
         "line": {
          "color": "#00cc96",
          "dash": "solid"
         },
         "marker": {
          "symbol": "circle"
         },
         "mode": "lines",
         "name": "7802",
         "orientation": "v",
         "showlegend": true,
         "type": "scatter",
         "x": [
          "06:00:00",
          "06:15:00",
          "06:30:00",
          "06:45:00",
          "07:00:00",
          "07:15:00",
          "07:30:00",
          "07:45:00",
          "08:00:00",
          "08:15:00",
          "08:30:00",
          "08:45:00",
          "09:00:00"
         ],
         "xaxis": "x",
         "y": [
          528.9900793650794,
          619.8888888888889,
          625.5555555555555,
          584.8888888888889,
          614.5555555555555,
          668.5111111111112,
          658.9555555555555,
          632.4444444444445,
          576.3194444444445,
          542.6444444444444,
          520.5019841269841,
          460.44444444444446,
          582.5166666666667
         ],
         "yaxis": "y"
        },
        {
         "hovertemplate": "ID=7803<br>Time=%{x}<br>Volume=%{y}<extra></extra>",
         "legendgroup": "7803",
         "line": {
          "color": "#ab63fa",
          "dash": "solid"
         },
         "marker": {
          "symbol": "circle"
         },
         "mode": "lines",
         "name": "7803",
         "orientation": "v",
         "showlegend": true,
         "type": "scatter",
         "x": [
          "06:00:00",
          "06:15:00",
          "06:30:00",
          "06:45:00",
          "07:00:00",
          "07:15:00",
          "07:30:00",
          "07:45:00",
          "08:00:00",
          "08:15:00",
          "08:30:00",
          "08:45:00",
          "09:00:00"
         ],
         "xaxis": "x",
         "y": [
          346.8095238095238,
          443.0238095238096,
          411.2261904761905,
          447.6857142857143,
          450.64761904761906,
          523.0857142857143,
          516.0952380952381,
          530.895238095238,
          463.57142857142856,
          404.14285714285717,
          399.9761904761905,
          401.84761904761905,
          370.25952380952384
         ],
         "yaxis": "y"
        },
        {
         "hovertemplate": "ID=7804<br>Time=%{x}<br>Volume=%{y}<extra></extra>",
         "legendgroup": "7804",
         "line": {
          "color": "#FFA15A",
          "dash": "solid"
         },
         "marker": {
          "symbol": "circle"
         },
         "mode": "lines",
         "name": "7804",
         "orientation": "v",
         "showlegend": true,
         "type": "scatter",
         "x": [
          "06:00:00",
          "06:15:00",
          "06:30:00",
          "06:45:00",
          "07:00:00",
          "07:15:00",
          "07:30:00",
          "07:45:00",
          "08:00:00",
          "08:15:00",
          "08:30:00",
          "08:45:00",
          "09:00:00"
         ],
         "xaxis": "x",
         "y": [
          401.44444444444446,
          482.6857142857143,
          452.8666666666667,
          476.9801587301588,
          492.4662698412699,
          578.6666666666667,
          632.6388888888889,
          686.8888888888889,
          531.7777777777778,
          515.5,
          470.7222222222222,
          432.77777777777777,
          415.29166666666674
         ],
         "yaxis": "y"
        },
        {
         "hovertemplate": "ID=7805<br>Time=%{x}<br>Volume=%{y}<extra></extra>",
         "legendgroup": "7805",
         "line": {
          "color": "#19d3f3",
          "dash": "solid"
         },
         "marker": {
          "symbol": "circle"
         },
         "mode": "lines",
         "name": "7805",
         "orientation": "v",
         "showlegend": true,
         "type": "scatter",
         "x": [
          "06:00:00",
          "06:15:00",
          "06:30:00",
          "06:45:00",
          "07:00:00",
          "07:15:00",
          "07:30:00",
          "07:45:00",
          "08:00:00",
          "08:15:00",
          "08:30:00",
          "08:45:00",
          "09:00:00"
         ],
         "xaxis": "x",
         "y": [
          414,
          491.27777777777777,
          471.1111111111111,
          527.3333333333334,
          533.0694444444443,
          672.875,
          786.6666666666667,
          908.8888888888889,
          790.6666666666667,
          589.7777777777777,
          531.5555555555555,
          531.6666666666666,
          441.76388888888886
         ],
         "yaxis": "y"
        },
        {
         "hovertemplate": "ID=7811<br>Time=%{x}<br>Volume=%{y}<extra></extra>",
         "legendgroup": "7811",
         "line": {
          "color": "#FF6692",
          "dash": "solid"
         },
         "marker": {
          "symbol": "circle"
         },
         "mode": "lines",
         "name": "7811",
         "orientation": "v",
         "showlegend": true,
         "type": "scatter",
         "x": [
          "06:00:00",
          "06:15:00",
          "06:30:00",
          "06:45:00",
          "07:00:00",
          "07:15:00",
          "07:30:00",
          "07:45:00",
          "08:00:00",
          "08:15:00",
          "08:30:00",
          "08:45:00",
          "09:00:00"
         ],
         "xaxis": "x",
         "y": [
          343.50555555555553,
          389.5511904761905,
          361.56388888888887,
          461.5805555555555,
          428.1972222222222,
          511.73611111111114,
          580.7,
          636.7857142857142,
          542.9781746031747,
          507.42896825396826,
          424.2222222222222,
          512.8333333333334,
          431.1011904761905
         ],
         "yaxis": "y"
        },
        {
         "hovertemplate": "ID=7812<br>Time=%{x}<br>Volume=%{y}<extra></extra>",
         "legendgroup": "7812",
         "line": {
          "color": "#B6E880",
          "dash": "solid"
         },
         "marker": {
          "symbol": "circle"
         },
         "mode": "lines",
         "name": "7812",
         "orientation": "v",
         "showlegend": true,
         "type": "scatter",
         "x": [
          "06:00:00",
          "06:15:00",
          "06:30:00",
          "06:45:00",
          "07:00:00",
          "07:15:00",
          "07:30:00",
          "07:45:00",
          "08:00:00",
          "08:15:00",
          "08:30:00",
          "08:45:00",
          "09:00:00"
         ],
         "xaxis": "x",
         "y": [
          328,
          326.77777777777777,
          329.44444444444446,
          365.7777777777778,
          388.55555555555554,
          458.77777777777777,
          546.7777777777778,
          550.6666666666667,
          451.55555555555554,
          427.8888888888889,
          411.8888888888889,
          439.44444444444446,
          371.8888888888889
         ],
         "yaxis": "y"
        },
        {
         "hovertemplate": "ID=7813<br>Time=%{x}<br>Volume=%{y}<extra></extra>",
         "legendgroup": "7813",
         "line": {
          "color": "#FF97FF",
          "dash": "solid"
         },
         "marker": {
          "symbol": "circle"
         },
         "mode": "lines",
         "name": "7813",
         "orientation": "v",
         "showlegend": true,
         "type": "scatter",
         "x": [
          "06:00:00",
          "06:15:00",
          "06:30:00",
          "06:45:00",
          "07:00:00",
          "07:15:00",
          "07:30:00",
          "07:45:00",
          "08:00:00",
          "08:15:00",
          "08:30:00",
          "08:45:00",
          "09:00:00"
         ],
         "xaxis": "x",
         "y": [
          419.1833333333334,
          419.25,
          414.77777777777777,
          475.3333333333333,
          526.5555555555555,
          560.3333333333333,
          601.3333333333334,
          653,
          633.5555555555555,
          597.1111111111111,
          569.6666666666667,
          574.2222222222222,
          562.5555555555555
         ],
         "yaxis": "y"
        },
        {
         "hovertemplate": "ID=7814<br>Time=%{x}<br>Volume=%{y}<extra></extra>",
         "legendgroup": "7814",
         "line": {
          "color": "#FECB52",
          "dash": "solid"
         },
         "marker": {
          "symbol": "circle"
         },
         "mode": "lines",
         "name": "7814",
         "orientation": "v",
         "showlegend": true,
         "type": "scatter",
         "x": [
          "06:00:00",
          "06:15:00",
          "06:30:00",
          "06:45:00",
          "07:00:00",
          "07:15:00",
          "07:30:00",
          "07:45:00",
          "08:00:00",
          "08:15:00",
          "08:30:00",
          "08:45:00",
          "09:00:00"
         ],
         "xaxis": "x",
         "y": [
          443.44444444444446,
          453.1111111111111,
          451,
          546.3333333333334,
          557.2222222222222,
          612.1111111111111,
          646.4444444444445,
          756.5555555555555,
          696.8888888888889,
          746.8888888888889,
          680.7777777777778,
          740.1111111111111,
          604.7777777777778
         ],
         "yaxis": "y"
        },
        {
         "hovertemplate": "ID=7815<br>Time=%{x}<br>Volume=%{y}<extra></extra>",
         "legendgroup": "7815",
         "line": {
          "color": "#636efa",
          "dash": "solid"
         },
         "marker": {
          "symbol": "circle"
         },
         "mode": "lines",
         "name": "7815",
         "orientation": "v",
         "showlegend": true,
         "type": "scatter",
         "x": [
          "06:00:00",
          "06:15:00",
          "06:30:00",
          "06:45:00",
          "07:00:00",
          "07:15:00",
          "07:30:00",
          "07:45:00",
          "08:00:00",
          "08:15:00",
          "08:30:00",
          "08:45:00",
          "09:00:00"
         ],
         "xaxis": "x",
         "y": [
          347.18253968253964,
          308.95238095238096,
          311.9404761904762,
          377.25,
          406.04166666666674,
          414.44444444444446,
          487.0257936507937,
          549.6666666666666,
          547.8888888888889,
          507.55555555555554,
          509.7777777777778,
          514.2222222222222,
          486.1388888888889
         ],
         "yaxis": "y"
        },
        {
         "hovertemplate": "ID=7816<br>Time=%{x}<br>Volume=%{y}<extra></extra>",
         "legendgroup": "7816",
         "line": {
          "color": "#EF553B",
          "dash": "solid"
         },
         "marker": {
          "symbol": "circle"
         },
         "mode": "lines",
         "name": "7816",
         "orientation": "v",
         "showlegend": true,
         "type": "scatter",
         "x": [
          "06:00:00",
          "06:15:00",
          "06:30:00",
          "06:45:00",
          "07:00:00",
          "07:15:00",
          "07:30:00",
          "07:45:00",
          "08:00:00",
          "08:15:00",
          "08:30:00",
          "08:45:00",
          "09:00:00"
         ],
         "xaxis": "x",
         "y": [
          323.22222222222223,
          296.5,
          288.1666666666667,
          371.73333333333335,
          362.35555555555555,
          415.77777777777777,
          489.61111111111114,
          563.8888888888889,
          507.2222222222223,
          505.6666666666667,
          463.54166666666663,
          512.7777777777778,
          438.11111111111114
         ],
         "yaxis": "y"
        },
        {
         "hovertemplate": "ID=7818<br>Time=%{x}<br>Volume=%{y}<extra></extra>",
         "legendgroup": "7818",
         "line": {
          "color": "#00cc96",
          "dash": "solid"
         },
         "marker": {
          "symbol": "circle"
         },
         "mode": "lines",
         "name": "7818",
         "orientation": "v",
         "showlegend": true,
         "type": "scatter",
         "x": [
          "06:00:00",
          "06:15:00",
          "06:30:00",
          "06:45:00",
          "07:00:00",
          "07:15:00",
          "07:30:00",
          "07:45:00",
          "08:00:00",
          "08:15:00",
          "08:30:00",
          "08:45:00",
          "09:00:00"
         ],
         "xaxis": "x",
         "y": [
          289.33888888888885,
          279.8888888888889,
          253.83333333333331,
          340.9583333333333,
          316.8888888888889,
          382.968253968254,
          458.31944444444446,
          548.4444444444445,
          475.1111111111111,
          467.44444444444446,
          407.55555555555554,
          492.77777777777777,
          400.3650793650794
         ],
         "yaxis": "y"
        },
        {
         "hovertemplate": "ID=7819<br>Time=%{x}<br>Volume=%{y}<extra></extra>",
         "legendgroup": "7819",
         "line": {
          "color": "#ab63fa",
          "dash": "solid"
         },
         "marker": {
          "symbol": "circle"
         },
         "mode": "lines",
         "name": "7819",
         "orientation": "v",
         "showlegend": true,
         "type": "scatter",
         "x": [
          "06:00:00",
          "06:15:00",
          "06:30:00",
          "06:45:00",
          "07:00:00",
          "07:15:00",
          "07:30:00",
          "07:45:00",
          "08:00:00",
          "08:15:00",
          "08:30:00",
          "08:45:00",
          "09:00:00"
         ],
         "xaxis": "x",
         "y": [
          283.44444444444446,
          248.65277777777777,
          237.7777777777778,
          311.55555555555554,
          307.55555555555554,
          407.22222222222223,
          500.8888888888889,
          550.2222222222223,
          473.6666666666667,
          436.77777777777777,
          421.4861111111111,
          460.11111111111114,
          374.6666666666667
         ],
         "yaxis": "y"
        }
       ],
       "layout": {
        "legend": {
         "title": {
          "text": "ID"
         },
         "tracegroupgap": 0
        },
        "margin": {
         "t": 60
        },
        "template": {
         "data": {
          "bar": [
           {
            "error_x": {
             "color": "#2a3f5f"
            },
            "error_y": {
             "color": "#2a3f5f"
            },
            "marker": {
             "line": {
              "color": "#E5ECF6",
              "width": 0.5
             },
             "pattern": {
              "fillmode": "overlay",
              "size": 10,
              "solidity": 0.2
             }
            },
            "type": "bar"
           }
          ],
          "barpolar": [
           {
            "marker": {
             "line": {
              "color": "#E5ECF6",
              "width": 0.5
             },
             "pattern": {
              "fillmode": "overlay",
              "size": 10,
              "solidity": 0.2
             }
            },
            "type": "barpolar"
           }
          ],
          "carpet": [
           {
            "aaxis": {
             "endlinecolor": "#2a3f5f",
             "gridcolor": "white",
             "linecolor": "white",
             "minorgridcolor": "white",
             "startlinecolor": "#2a3f5f"
            },
            "baxis": {
             "endlinecolor": "#2a3f5f",
             "gridcolor": "white",
             "linecolor": "white",
             "minorgridcolor": "white",
             "startlinecolor": "#2a3f5f"
            },
            "type": "carpet"
           }
          ],
          "choropleth": [
           {
            "colorbar": {
             "outlinewidth": 0,
             "ticks": ""
            },
            "type": "choropleth"
           }
          ],
          "contour": [
           {
            "colorbar": {
             "outlinewidth": 0,
             "ticks": ""
            },
            "colorscale": [
             [
              0,
              "#0d0887"
             ],
             [
              0.1111111111111111,
              "#46039f"
             ],
             [
              0.2222222222222222,
              "#7201a8"
             ],
             [
              0.3333333333333333,
              "#9c179e"
             ],
             [
              0.4444444444444444,
              "#bd3786"
             ],
             [
              0.5555555555555556,
              "#d8576b"
             ],
             [
              0.6666666666666666,
              "#ed7953"
             ],
             [
              0.7777777777777778,
              "#fb9f3a"
             ],
             [
              0.8888888888888888,
              "#fdca26"
             ],
             [
              1,
              "#f0f921"
             ]
            ],
            "type": "contour"
           }
          ],
          "contourcarpet": [
           {
            "colorbar": {
             "outlinewidth": 0,
             "ticks": ""
            },
            "type": "contourcarpet"
           }
          ],
          "heatmap": [
           {
            "colorbar": {
             "outlinewidth": 0,
             "ticks": ""
            },
            "colorscale": [
             [
              0,
              "#0d0887"
             ],
             [
              0.1111111111111111,
              "#46039f"
             ],
             [
              0.2222222222222222,
              "#7201a8"
             ],
             [
              0.3333333333333333,
              "#9c179e"
             ],
             [
              0.4444444444444444,
              "#bd3786"
             ],
             [
              0.5555555555555556,
              "#d8576b"
             ],
             [
              0.6666666666666666,
              "#ed7953"
             ],
             [
              0.7777777777777778,
              "#fb9f3a"
             ],
             [
              0.8888888888888888,
              "#fdca26"
             ],
             [
              1,
              "#f0f921"
             ]
            ],
            "type": "heatmap"
           }
          ],
          "heatmapgl": [
           {
            "colorbar": {
             "outlinewidth": 0,
             "ticks": ""
            },
            "colorscale": [
             [
              0,
              "#0d0887"
             ],
             [
              0.1111111111111111,
              "#46039f"
             ],
             [
              0.2222222222222222,
              "#7201a8"
             ],
             [
              0.3333333333333333,
              "#9c179e"
             ],
             [
              0.4444444444444444,
              "#bd3786"
             ],
             [
              0.5555555555555556,
              "#d8576b"
             ],
             [
              0.6666666666666666,
              "#ed7953"
             ],
             [
              0.7777777777777778,
              "#fb9f3a"
             ],
             [
              0.8888888888888888,
              "#fdca26"
             ],
             [
              1,
              "#f0f921"
             ]
            ],
            "type": "heatmapgl"
           }
          ],
          "histogram": [
           {
            "marker": {
             "pattern": {
              "fillmode": "overlay",
              "size": 10,
              "solidity": 0.2
             }
            },
            "type": "histogram"
           }
          ],
          "histogram2d": [
           {
            "colorbar": {
             "outlinewidth": 0,
             "ticks": ""
            },
            "colorscale": [
             [
              0,
              "#0d0887"
             ],
             [
              0.1111111111111111,
              "#46039f"
             ],
             [
              0.2222222222222222,
              "#7201a8"
             ],
             [
              0.3333333333333333,
              "#9c179e"
             ],
             [
              0.4444444444444444,
              "#bd3786"
             ],
             [
              0.5555555555555556,
              "#d8576b"
             ],
             [
              0.6666666666666666,
              "#ed7953"
             ],
             [
              0.7777777777777778,
              "#fb9f3a"
             ],
             [
              0.8888888888888888,
              "#fdca26"
             ],
             [
              1,
              "#f0f921"
             ]
            ],
            "type": "histogram2d"
           }
          ],
          "histogram2dcontour": [
           {
            "colorbar": {
             "outlinewidth": 0,
             "ticks": ""
            },
            "colorscale": [
             [
              0,
              "#0d0887"
             ],
             [
              0.1111111111111111,
              "#46039f"
             ],
             [
              0.2222222222222222,
              "#7201a8"
             ],
             [
              0.3333333333333333,
              "#9c179e"
             ],
             [
              0.4444444444444444,
              "#bd3786"
             ],
             [
              0.5555555555555556,
              "#d8576b"
             ],
             [
              0.6666666666666666,
              "#ed7953"
             ],
             [
              0.7777777777777778,
              "#fb9f3a"
             ],
             [
              0.8888888888888888,
              "#fdca26"
             ],
             [
              1,
              "#f0f921"
             ]
            ],
            "type": "histogram2dcontour"
           }
          ],
          "mesh3d": [
           {
            "colorbar": {
             "outlinewidth": 0,
             "ticks": ""
            },
            "type": "mesh3d"
           }
          ],
          "parcoords": [
           {
            "line": {
             "colorbar": {
              "outlinewidth": 0,
              "ticks": ""
             }
            },
            "type": "parcoords"
           }
          ],
          "pie": [
           {
            "automargin": true,
            "type": "pie"
           }
          ],
          "scatter": [
           {
            "fillpattern": {
             "fillmode": "overlay",
             "size": 10,
             "solidity": 0.2
            },
            "type": "scatter"
           }
          ],
          "scatter3d": [
           {
            "line": {
             "colorbar": {
              "outlinewidth": 0,
              "ticks": ""
             }
            },
            "marker": {
             "colorbar": {
              "outlinewidth": 0,
              "ticks": ""
             }
            },
            "type": "scatter3d"
           }
          ],
          "scattercarpet": [
           {
            "marker": {
             "colorbar": {
              "outlinewidth": 0,
              "ticks": ""
             }
            },
            "type": "scattercarpet"
           }
          ],
          "scattergeo": [
           {
            "marker": {
             "colorbar": {
              "outlinewidth": 0,
              "ticks": ""
             }
            },
            "type": "scattergeo"
           }
          ],
          "scattergl": [
           {
            "marker": {
             "colorbar": {
              "outlinewidth": 0,
              "ticks": ""
             }
            },
            "type": "scattergl"
           }
          ],
          "scattermapbox": [
           {
            "marker": {
             "colorbar": {
              "outlinewidth": 0,
              "ticks": ""
             }
            },
            "type": "scattermapbox"
           }
          ],
          "scatterpolar": [
           {
            "marker": {
             "colorbar": {
              "outlinewidth": 0,
              "ticks": ""
             }
            },
            "type": "scatterpolar"
           }
          ],
          "scatterpolargl": [
           {
            "marker": {
             "colorbar": {
              "outlinewidth": 0,
              "ticks": ""
             }
            },
            "type": "scatterpolargl"
           }
          ],
          "scatterternary": [
           {
            "marker": {
             "colorbar": {
              "outlinewidth": 0,
              "ticks": ""
             }
            },
            "type": "scatterternary"
           }
          ],
          "surface": [
           {
            "colorbar": {
             "outlinewidth": 0,
             "ticks": ""
            },
            "colorscale": [
             [
              0,
              "#0d0887"
             ],
             [
              0.1111111111111111,
              "#46039f"
             ],
             [
              0.2222222222222222,
              "#7201a8"
             ],
             [
              0.3333333333333333,
              "#9c179e"
             ],
             [
              0.4444444444444444,
              "#bd3786"
             ],
             [
              0.5555555555555556,
              "#d8576b"
             ],
             [
              0.6666666666666666,
              "#ed7953"
             ],
             [
              0.7777777777777778,
              "#fb9f3a"
             ],
             [
              0.8888888888888888,
              "#fdca26"
             ],
             [
              1,
              "#f0f921"
             ]
            ],
            "type": "surface"
           }
          ],
          "table": [
           {
            "cells": {
             "fill": {
              "color": "#EBF0F8"
             },
             "line": {
              "color": "white"
             }
            },
            "header": {
             "fill": {
              "color": "#C8D4E3"
             },
             "line": {
              "color": "white"
             }
            },
            "type": "table"
           }
          ]
         },
         "layout": {
          "annotationdefaults": {
           "arrowcolor": "#2a3f5f",
           "arrowhead": 0,
           "arrowwidth": 1
          },
          "autotypenumbers": "strict",
          "coloraxis": {
           "colorbar": {
            "outlinewidth": 0,
            "ticks": ""
           }
          },
          "colorscale": {
           "diverging": [
            [
             0,
             "#8e0152"
            ],
            [
             0.1,
             "#c51b7d"
            ],
            [
             0.2,
             "#de77ae"
            ],
            [
             0.3,
             "#f1b6da"
            ],
            [
             0.4,
             "#fde0ef"
            ],
            [
             0.5,
             "#f7f7f7"
            ],
            [
             0.6,
             "#e6f5d0"
            ],
            [
             0.7,
             "#b8e186"
            ],
            [
             0.8,
             "#7fbc41"
            ],
            [
             0.9,
             "#4d9221"
            ],
            [
             1,
             "#276419"
            ]
           ],
           "sequential": [
            [
             0,
             "#0d0887"
            ],
            [
             0.1111111111111111,
             "#46039f"
            ],
            [
             0.2222222222222222,
             "#7201a8"
            ],
            [
             0.3333333333333333,
             "#9c179e"
            ],
            [
             0.4444444444444444,
             "#bd3786"
            ],
            [
             0.5555555555555556,
             "#d8576b"
            ],
            [
             0.6666666666666666,
             "#ed7953"
            ],
            [
             0.7777777777777778,
             "#fb9f3a"
            ],
            [
             0.8888888888888888,
             "#fdca26"
            ],
            [
             1,
             "#f0f921"
            ]
           ],
           "sequentialminus": [
            [
             0,
             "#0d0887"
            ],
            [
             0.1111111111111111,
             "#46039f"
            ],
            [
             0.2222222222222222,
             "#7201a8"
            ],
            [
             0.3333333333333333,
             "#9c179e"
            ],
            [
             0.4444444444444444,
             "#bd3786"
            ],
            [
             0.5555555555555556,
             "#d8576b"
            ],
            [
             0.6666666666666666,
             "#ed7953"
            ],
            [
             0.7777777777777778,
             "#fb9f3a"
            ],
            [
             0.8888888888888888,
             "#fdca26"
            ],
            [
             1,
             "#f0f921"
            ]
           ]
          },
          "colorway": [
           "#636efa",
           "#EF553B",
           "#00cc96",
           "#ab63fa",
           "#FFA15A",
           "#19d3f3",
           "#FF6692",
           "#B6E880",
           "#FF97FF",
           "#FECB52"
          ],
          "font": {
           "color": "#2a3f5f"
          },
          "geo": {
           "bgcolor": "white",
           "lakecolor": "white",
           "landcolor": "#E5ECF6",
           "showlakes": true,
           "showland": true,
           "subunitcolor": "white"
          },
          "hoverlabel": {
           "align": "left"
          },
          "hovermode": "closest",
          "mapbox": {
           "style": "light"
          },
          "paper_bgcolor": "white",
          "plot_bgcolor": "#E5ECF6",
          "polar": {
           "angularaxis": {
            "gridcolor": "white",
            "linecolor": "white",
            "ticks": ""
           },
           "bgcolor": "#E5ECF6",
           "radialaxis": {
            "gridcolor": "white",
            "linecolor": "white",
            "ticks": ""
           }
          },
          "scene": {
           "xaxis": {
            "backgroundcolor": "#E5ECF6",
            "gridcolor": "white",
            "gridwidth": 2,
            "linecolor": "white",
            "showbackground": true,
            "ticks": "",
            "zerolinecolor": "white"
           },
           "yaxis": {
            "backgroundcolor": "#E5ECF6",
            "gridcolor": "white",
            "gridwidth": 2,
            "linecolor": "white",
            "showbackground": true,
            "ticks": "",
            "zerolinecolor": "white"
           },
           "zaxis": {
            "backgroundcolor": "#E5ECF6",
            "gridcolor": "white",
            "gridwidth": 2,
            "linecolor": "white",
            "showbackground": true,
            "ticks": "",
            "zerolinecolor": "white"
           }
          },
          "shapedefaults": {
           "line": {
            "color": "#2a3f5f"
           }
          },
          "ternary": {
           "aaxis": {
            "gridcolor": "white",
            "linecolor": "white",
            "ticks": ""
           },
           "baxis": {
            "gridcolor": "white",
            "linecolor": "white",
            "ticks": ""
           },
           "bgcolor": "#E5ECF6",
           "caxis": {
            "gridcolor": "white",
            "linecolor": "white",
            "ticks": ""
           }
          },
          "title": {
           "x": 0.05
          },
          "xaxis": {
           "automargin": true,
           "gridcolor": "white",
           "linecolor": "white",
           "ticks": "",
           "title": {
            "standoff": 15
           },
           "zerolinecolor": "white",
           "zerolinewidth": 2
          },
          "yaxis": {
           "automargin": true,
           "gridcolor": "white",
           "linecolor": "white",
           "ticks": "",
           "title": {
            "standoff": 15
           },
           "zerolinecolor": "white",
           "zerolinewidth": 2
          }
         }
        },
        "xaxis": {
         "anchor": "y",
         "domain": [
          0,
          1
         ],
         "title": {
          "text": "Time"
         }
        },
        "yaxis": {
         "anchor": "x",
         "domain": [
          0,
          1
         ],
         "title": {
          "text": "Volume"
         }
        }
       }
      }
     },
     "metadata": {},
     "output_type": "display_data"
    }
   ],
   "source": [
    "# Sort data by Time\n",
    "am_data.sort_values(by='Time', inplace=True)\n",
    "\n",
    "# Group by ID and Time, sum the volumes\n",
    "grouped_data = am_data.groupby(['ID', 'Time'])['Volume'].sum().reset_index()\n",
    "\n",
    "# Plotting\n",
    "fig = px.line(grouped_data, x='Time', y='Volume', color='ID', labels={'Volume': 'Volume', 'Time': 'Time'})\n",
    "\n",
    "# Show the plot\n",
    "fig.show()"
   ]
  },
  {
   "cell_type": "code",
   "execution_count": null,
   "metadata": {},
   "outputs": [],
   "source": [
    "# cumulative data\n",
    "# Group by ID and Time, sum the volumes\n",
    "cumulative_data = am_data.groupby(['ID', 'Time'])['Volume'].sum().groupby(level=0).cumsum().reset_index()\n",
    "\n",
    "# Plotting\n",
    "fig = px.line(cumulative_data, x='Time', y='Volume', color='ID', labels={'Volume': 'Volume', 'Time': 'Time'})\n",
    "\n",
    "# Show the plot\n",
    "fig.show()"
   ]
  },
  {
   "cell_type": "code",
   "execution_count": null,
   "metadata": {},
   "outputs": [],
   "source": [
    "md_data.groupby(['ID', 'NBSB'])['Volume'].\\\n",
    "    sum().\\\n",
    "    reset_index().\\\n",
    "    pivot(index='ID', columns='NBSB', values='Volume').\\\n",
    "    drop(columns='other')"
   ]
  },
  {
   "cell_type": "code",
   "execution_count": null,
   "metadata": {},
   "outputs": [],
   "source": [
    "pm_data.groupby(['ID', 'NBSB'])['Volume'].\\\n",
    "    sum().\\\n",
    "    reset_index().\\\n",
    "    pivot(index='ID', columns='NBSB', values='Volume').\\\n",
    "    drop(columns='other')"
   ]
  },
  {
   "cell_type": "code",
   "execution_count": 15,
   "metadata": {},
   "outputs": [
    {
     "name": "stderr",
     "output_type": "stream",
     "text": [
      "C:\\Users\\nlant\\AppData\\Local\\Temp\\ipykernel_30136\\1754315918.py:2: SettingWithCopyWarning:\n",
      "\n",
      "\n",
      "A value is trying to be set on a copy of a slice from a DataFrame\n",
      "\n",
      "See the caveats in the documentation: https://pandas.pydata.org/pandas-docs/stable/user_guide/indexing.html#returning-a-view-versus-a-copy\n",
      "\n"
     ]
    },
    {
     "data": {
      "application/vnd.plotly.v1+json": {
       "config": {
        "plotlyServerURL": "https://plot.ly"
       },
       "data": [
        {
         "hovertemplate": "ID=7800<br>Time=%{x}<br>Volume=%{y}<extra></extra>",
         "legendgroup": "7800",
         "line": {
          "color": "#636efa",
          "dash": "solid"
         },
         "marker": {
          "symbol": "circle"
         },
         "mode": "lines",
         "name": "7800",
         "orientation": "v",
         "showlegend": true,
         "type": "scatter",
         "x": [
          "15:00:00",
          "15:15:00",
          "15:30:00",
          "15:45:00",
          "16:00:00",
          "16:15:00",
          "16:30:00",
          "16:45:00",
          "17:00:00",
          "17:15:00",
          "17:30:00",
          "17:45:00",
          "18:00:00",
          "18:15:00",
          "18:30:00",
          "18:45:00",
          "19:00:00"
         ],
         "xaxis": "x",
         "y": [
          152.8,
          185.20000000000002,
          183.5,
          202.8,
          208,
          233.5,
          232.29999999999998,
          226.29999999999998,
          223.7,
          238.5,
          231.40000000000003,
          224.4,
          190.3,
          170.7888888888889,
          160.29999999999998,
          129.6,
          165.9
         ],
         "yaxis": "y"
        },
        {
         "hovertemplate": "ID=7801<br>Time=%{x}<br>Volume=%{y}<extra></extra>",
         "legendgroup": "7801",
         "line": {
          "color": "#EF553B",
          "dash": "solid"
         },
         "marker": {
          "symbol": "circle"
         },
         "mode": "lines",
         "name": "7801",
         "orientation": "v",
         "showlegend": true,
         "type": "scatter",
         "x": [
          "15:00:00",
          "15:15:00",
          "15:30:00",
          "15:45:00",
          "16:00:00",
          "16:15:00",
          "16:30:00",
          "16:45:00",
          "17:00:00",
          "17:15:00",
          "17:30:00",
          "17:45:00",
          "18:00:00",
          "18:15:00",
          "18:30:00",
          "18:45:00",
          "19:00:00"
         ],
         "xaxis": "x",
         "y": [
          478.94444444444446,
          557.3611111111111,
          564.5,
          640.3333333333333,
          663.5079365079365,
          696.8333333333333,
          695.5777777777778,
          706.6111111111111,
          708.6666666666667,
          726.7638888888889,
          711.1111111111111,
          687.984126984127,
          647.8888888888889,
          607.4444444444445,
          530.7638888888889,
          444.4222222222222,
          390
         ],
         "yaxis": "y"
        },
        {
         "hovertemplate": "ID=7802<br>Time=%{x}<br>Volume=%{y}<extra></extra>",
         "legendgroup": "7802",
         "line": {
          "color": "#00cc96",
          "dash": "solid"
         },
         "marker": {
          "symbol": "circle"
         },
         "mode": "lines",
         "name": "7802",
         "orientation": "v",
         "showlegend": true,
         "type": "scatter",
         "x": [
          "15:00:00",
          "15:15:00",
          "15:30:00",
          "15:45:00",
          "16:00:00",
          "16:15:00",
          "16:30:00",
          "16:45:00",
          "17:00:00",
          "17:15:00",
          "17:30:00",
          "17:45:00",
          "18:00:00",
          "18:15:00",
          "18:30:00",
          "18:45:00",
          "19:00:00"
         ],
         "xaxis": "x",
         "y": [
          523.5555555555555,
          579.952380952381,
          612.3333333333333,
          681.4444444444443,
          695.6388888888889,
          713.1111111111111,
          731.5555555555555,
          718.0666666666666,
          722.3333333333334,
          745.7777777777778,
          714.9444444444445,
          693.4444444444445,
          647.7777777777778,
          604.6666666666667,
          542.3333333333334,
          562.8055555555555,
          489.79166666666663
         ],
         "yaxis": "y"
        },
        {
         "hovertemplate": "ID=7803<br>Time=%{x}<br>Volume=%{y}<extra></extra>",
         "legendgroup": "7803",
         "line": {
          "color": "#ab63fa",
          "dash": "solid"
         },
         "marker": {
          "symbol": "circle"
         },
         "mode": "lines",
         "name": "7803",
         "orientation": "v",
         "showlegend": true,
         "type": "scatter",
         "x": [
          "15:00:00",
          "15:15:00",
          "15:30:00",
          "15:45:00",
          "16:00:00",
          "16:15:00",
          "16:30:00",
          "16:45:00",
          "17:00:00",
          "17:15:00",
          "17:30:00",
          "17:45:00",
          "18:00:00",
          "18:15:00",
          "18:30:00",
          "18:45:00",
          "19:00:00"
         ],
         "xaxis": "x",
         "y": [
          474.8452380952381,
          497.0952380952381,
          539.1904761904761,
          565.9666666666667,
          595.5595238095239,
          603.6,
          595.1857142857143,
          638.052380952381,
          643.9904761904762,
          612.7857142857142,
          631.4880952380953,
          625.8428571428572,
          565.8428571428572,
          480.8357142857143,
          477.25714285714287,
          388.51428571428573,
          364.8904761904762
         ],
         "yaxis": "y"
        },
        {
         "hovertemplate": "ID=7804<br>Time=%{x}<br>Volume=%{y}<extra></extra>",
         "legendgroup": "7804",
         "line": {
          "color": "#FFA15A",
          "dash": "solid"
         },
         "marker": {
          "symbol": "circle"
         },
         "mode": "lines",
         "name": "7804",
         "orientation": "v",
         "showlegend": true,
         "type": "scatter",
         "x": [
          "15:00:00",
          "15:15:00",
          "15:30:00",
          "15:45:00",
          "16:00:00",
          "16:15:00",
          "16:30:00",
          "16:45:00",
          "17:00:00",
          "17:15:00",
          "17:30:00",
          "17:45:00",
          "18:00:00",
          "18:15:00",
          "18:30:00",
          "18:45:00",
          "19:00:00"
         ],
         "xaxis": "x",
         "y": [
          497.5694444444444,
          521.5555555555555,
          564.8888888888889,
          628.125,
          615.6666666666666,
          639.2916666666666,
          619.3333333333334,
          638.3690476190477,
          653.7083333333334,
          641.8571428571429,
          620.7222222222222,
          628.952380952381,
          584.6527777777778,
          559.4444444444445,
          515.8472222222223,
          456.25396825396825,
          409.9166666666667
         ],
         "yaxis": "y"
        },
        {
         "hovertemplate": "ID=7805<br>Time=%{x}<br>Volume=%{y}<extra></extra>",
         "legendgroup": "7805",
         "line": {
          "color": "#19d3f3",
          "dash": "solid"
         },
         "marker": {
          "symbol": "circle"
         },
         "mode": "lines",
         "name": "7805",
         "orientation": "v",
         "showlegend": true,
         "type": "scatter",
         "x": [
          "15:00:00",
          "15:15:00",
          "15:30:00",
          "15:45:00",
          "16:00:00",
          "16:15:00",
          "16:30:00",
          "16:45:00",
          "17:00:00",
          "17:15:00",
          "17:30:00",
          "17:45:00",
          "18:00:00",
          "18:15:00",
          "18:30:00",
          "18:45:00",
          "19:00:00"
         ],
         "xaxis": "x",
         "y": [
          637.3809523809524,
          628.4603174603176,
          744.4444444444446,
          873.1111111111111,
          820.7777777777778,
          734.2222222222222,
          691.75,
          717.3194444444445,
          709.6666666666667,
          703.1111111111111,
          685.5555555555557,
          684.7638888888889,
          671.4583333333334,
          609,
          554.5555555555557,
          507.95238095238096,
          449.0476190476191
         ],
         "yaxis": "y"
        },
        {
         "hovertemplate": "ID=7811<br>Time=%{x}<br>Volume=%{y}<extra></extra>",
         "legendgroup": "7811",
         "line": {
          "color": "#FF6692",
          "dash": "solid"
         },
         "marker": {
          "symbol": "circle"
         },
         "mode": "lines",
         "name": "7811",
         "orientation": "v",
         "showlegend": true,
         "type": "scatter",
         "x": [
          "15:00:00",
          "15:15:00",
          "15:30:00",
          "15:45:00",
          "16:00:00",
          "16:15:00",
          "16:30:00",
          "16:45:00",
          "17:00:00",
          "17:15:00",
          "17:30:00",
          "17:45:00",
          "18:00:00",
          "18:15:00",
          "18:30:00",
          "18:45:00",
          "19:00:00"
         ],
         "xaxis": "x",
         "y": [
          558.8809523809524,
          560.9444444444445,
          632.7777777777777,
          679.8174603174602,
          726.6587301587301,
          695.1666666666667,
          658.3412698412698,
          657.906746031746,
          637.4253968253969,
          609.984126984127,
          584.7083333333334,
          562.7944444444445,
          559.0428571428572,
          485.64285714285717,
          445.7599206349206,
          489.55793650793646,
          401.29047619047617
         ],
         "yaxis": "y"
        },
        {
         "hovertemplate": "ID=7812<br>Time=%{x}<br>Volume=%{y}<extra></extra>",
         "legendgroup": "7812",
         "line": {
          "color": "#B6E880",
          "dash": "solid"
         },
         "marker": {
          "symbol": "circle"
         },
         "mode": "lines",
         "name": "7812",
         "orientation": "v",
         "showlegend": true,
         "type": "scatter",
         "x": [
          "15:00:00",
          "15:15:00",
          "15:30:00",
          "15:45:00",
          "16:00:00",
          "16:15:00",
          "16:30:00",
          "16:45:00",
          "17:00:00",
          "17:15:00",
          "17:30:00",
          "17:45:00",
          "18:00:00",
          "18:15:00",
          "18:30:00",
          "18:45:00",
          "19:00:00"
         ],
         "xaxis": "x",
         "y": [
          452.77777777777777,
          452.88888888888886,
          436.1111111111111,
          500.8888888888889,
          494.55555555555554,
          479.55555555555554,
          482,
          476,
          530.4444444444445,
          495.66666666666663,
          452.8888888888889,
          472.7777777777778,
          451.1111111111111,
          424.66666666666663,
          382.8888888888889,
          396.22222222222223,
          352.55555555555554
         ],
         "yaxis": "y"
        },
        {
         "hovertemplate": "ID=7813<br>Time=%{x}<br>Volume=%{y}<extra></extra>",
         "legendgroup": "7813",
         "line": {
          "color": "#FF97FF",
          "dash": "solid"
         },
         "marker": {
          "symbol": "circle"
         },
         "mode": "lines",
         "name": "7813",
         "orientation": "v",
         "showlegend": true,
         "type": "scatter",
         "x": [
          "15:00:00",
          "15:15:00",
          "15:30:00",
          "15:45:00",
          "16:00:00",
          "16:15:00",
          "16:30:00",
          "16:45:00",
          "17:00:00",
          "17:15:00",
          "17:30:00",
          "17:45:00",
          "18:00:00",
          "18:15:00",
          "18:30:00",
          "18:45:00",
          "19:00:00"
         ],
         "xaxis": "x",
         "y": [
          694.2222222222222,
          721.2222222222222,
          709.8888888888889,
          762.8888888888889,
          770.5555555555555,
          770.5555555555557,
          753.6666666666667,
          793.1111111111111,
          798.8888888888889,
          794.5555555555555,
          737.6666666666666,
          756.7777777777778,
          703.6666666666666,
          713.1111111111111,
          667,
          662.2222222222223,
          605.6666666666666
         ],
         "yaxis": "y"
        },
        {
         "hovertemplate": "ID=7814<br>Time=%{x}<br>Volume=%{y}<extra></extra>",
         "legendgroup": "7814",
         "line": {
          "color": "#FECB52",
          "dash": "solid"
         },
         "marker": {
          "symbol": "circle"
         },
         "mode": "lines",
         "name": "7814",
         "orientation": "v",
         "showlegend": true,
         "type": "scatter",
         "x": [
          "15:00:00",
          "15:15:00",
          "15:30:00",
          "15:45:00",
          "16:00:00",
          "16:15:00",
          "16:30:00",
          "16:45:00",
          "17:00:00",
          "17:15:00",
          "17:30:00",
          "17:45:00",
          "18:00:00",
          "18:15:00",
          "18:30:00",
          "18:45:00",
          "19:00:00"
         ],
         "xaxis": "x",
         "y": [
          782.1111111111111,
          818.4444444444446,
          752,
          830.7777777777777,
          801.1111111111111,
          800.6666666666667,
          803.1111111111111,
          806.8888888888889,
          835.6666666666667,
          817.5555555555555,
          825.7777777777778,
          829.1111111111111,
          791.2222222222222,
          805,
          736.7777777777778,
          733.4444444444445,
          681.3333333333333
         ],
         "yaxis": "y"
        },
        {
         "hovertemplate": "ID=7815<br>Time=%{x}<br>Volume=%{y}<extra></extra>",
         "legendgroup": "7815",
         "line": {
          "color": "#636efa",
          "dash": "solid"
         },
         "marker": {
          "symbol": "circle"
         },
         "mode": "lines",
         "name": "7815",
         "orientation": "v",
         "showlegend": true,
         "type": "scatter",
         "x": [
          "15:00:00",
          "15:15:00",
          "15:30:00",
          "15:45:00",
          "16:00:00",
          "16:15:00",
          "16:30:00",
          "16:45:00",
          "17:00:00",
          "17:15:00",
          "17:30:00",
          "17:45:00",
          "18:00:00",
          "18:15:00",
          "18:30:00",
          "18:45:00",
          "19:00:00"
         ],
         "xaxis": "x",
         "y": [
          685.6666666666667,
          670.2222222222222,
          658.1111111111111,
          725.4444444444445,
          705.8888888888889,
          693,
          701.1111111111111,
          737.6666666666667,
          773.6666666666666,
          736.4444444444445,
          696.1111111111111,
          690.1111111111111,
          674.7777777777778,
          655.1111111111111,
          639.3333333333334,
          618.2222222222222,
          560.1111111111111
         ],
         "yaxis": "y"
        },
        {
         "hovertemplate": "ID=7816<br>Time=%{x}<br>Volume=%{y}<extra></extra>",
         "legendgroup": "7816",
         "line": {
          "color": "#EF553B",
          "dash": "solid"
         },
         "marker": {
          "symbol": "circle"
         },
         "mode": "lines",
         "name": "7816",
         "orientation": "v",
         "showlegend": true,
         "type": "scatter",
         "x": [
          "15:00:00",
          "15:15:00",
          "15:30:00",
          "15:45:00",
          "16:00:00",
          "16:15:00",
          "16:30:00",
          "16:45:00",
          "17:00:00",
          "17:15:00",
          "17:30:00",
          "17:45:00",
          "18:00:00",
          "18:15:00",
          "18:30:00",
          "18:45:00",
          "19:00:00"
         ],
         "xaxis": "x",
         "y": [
          655.2222222222222,
          613.4444444444445,
          589.3333333333334,
          682.6666666666667,
          624.6666666666666,
          640.4444444444445,
          623.2222222222222,
          676.6666666666666,
          708.1527777777778,
          669.3333333333333,
          620.7777777777778,
          652.2222222222222,
          616.6666666666666,
          612.7777777777778,
          567.2222222222222,
          555.6944444444445,
          500.8888888888889
         ],
         "yaxis": "y"
        },
        {
         "hovertemplate": "ID=7818<br>Time=%{x}<br>Volume=%{y}<extra></extra>",
         "legendgroup": "7818",
         "line": {
          "color": "#00cc96",
          "dash": "solid"
         },
         "marker": {
          "symbol": "circle"
         },
         "mode": "lines",
         "name": "7818",
         "orientation": "v",
         "showlegend": true,
         "type": "scatter",
         "x": [
          "15:00:00",
          "15:15:00",
          "15:30:00",
          "15:45:00",
          "16:00:00",
          "16:15:00",
          "16:30:00",
          "16:45:00",
          "17:00:00",
          "17:15:00",
          "17:30:00",
          "17:45:00",
          "18:00:00",
          "18:15:00",
          "18:30:00",
          "18:45:00",
          "19:00:00"
         ],
         "xaxis": "x",
         "y": [
          603.6666666666667,
          591.1111111111111,
          582.3333333333334,
          634,
          602.1111111111111,
          613.6666666666666,
          624.8888888888889,
          668.1111111111111,
          698.6666666666667,
          641.3472222222223,
          601.5555555555555,
          612.8888888888889,
          579.1111111111111,
          569.5555555555555,
          538.1111111111111,
          541.5555555555557,
          466.2222222222222
         ],
         "yaxis": "y"
        },
        {
         "hovertemplate": "ID=7819<br>Time=%{x}<br>Volume=%{y}<extra></extra>",
         "legendgroup": "7819",
         "line": {
          "color": "#ab63fa",
          "dash": "solid"
         },
         "marker": {
          "symbol": "circle"
         },
         "mode": "lines",
         "name": "7819",
         "orientation": "v",
         "showlegend": true,
         "type": "scatter",
         "x": [
          "15:00:00",
          "15:15:00",
          "15:30:00",
          "15:45:00",
          "16:00:00",
          "16:15:00",
          "16:30:00",
          "16:45:00",
          "17:00:00",
          "17:15:00",
          "17:30:00",
          "17:45:00",
          "18:00:00",
          "18:15:00",
          "18:30:00",
          "18:45:00",
          "19:00:00"
         ],
         "xaxis": "x",
         "y": [
          588.1111111111111,
          600.5555555555555,
          554.2222222222222,
          615.3333333333333,
          568.6666666666667,
          589.3333333333333,
          584,
          617.2222222222222,
          644,
          584.2222222222223,
          551.2222222222223,
          577.3333333333334,
          532.5555555555555,
          531.5555555555555,
          495.7777777777778,
          487.55555555555554,
          436.1111111111111
         ],
         "yaxis": "y"
        }
       ],
       "layout": {
        "legend": {
         "title": {
          "text": "ID"
         },
         "tracegroupgap": 0
        },
        "margin": {
         "t": 60
        },
        "template": {
         "data": {
          "bar": [
           {
            "error_x": {
             "color": "#2a3f5f"
            },
            "error_y": {
             "color": "#2a3f5f"
            },
            "marker": {
             "line": {
              "color": "#E5ECF6",
              "width": 0.5
             },
             "pattern": {
              "fillmode": "overlay",
              "size": 10,
              "solidity": 0.2
             }
            },
            "type": "bar"
           }
          ],
          "barpolar": [
           {
            "marker": {
             "line": {
              "color": "#E5ECF6",
              "width": 0.5
             },
             "pattern": {
              "fillmode": "overlay",
              "size": 10,
              "solidity": 0.2
             }
            },
            "type": "barpolar"
           }
          ],
          "carpet": [
           {
            "aaxis": {
             "endlinecolor": "#2a3f5f",
             "gridcolor": "white",
             "linecolor": "white",
             "minorgridcolor": "white",
             "startlinecolor": "#2a3f5f"
            },
            "baxis": {
             "endlinecolor": "#2a3f5f",
             "gridcolor": "white",
             "linecolor": "white",
             "minorgridcolor": "white",
             "startlinecolor": "#2a3f5f"
            },
            "type": "carpet"
           }
          ],
          "choropleth": [
           {
            "colorbar": {
             "outlinewidth": 0,
             "ticks": ""
            },
            "type": "choropleth"
           }
          ],
          "contour": [
           {
            "colorbar": {
             "outlinewidth": 0,
             "ticks": ""
            },
            "colorscale": [
             [
              0,
              "#0d0887"
             ],
             [
              0.1111111111111111,
              "#46039f"
             ],
             [
              0.2222222222222222,
              "#7201a8"
             ],
             [
              0.3333333333333333,
              "#9c179e"
             ],
             [
              0.4444444444444444,
              "#bd3786"
             ],
             [
              0.5555555555555556,
              "#d8576b"
             ],
             [
              0.6666666666666666,
              "#ed7953"
             ],
             [
              0.7777777777777778,
              "#fb9f3a"
             ],
             [
              0.8888888888888888,
              "#fdca26"
             ],
             [
              1,
              "#f0f921"
             ]
            ],
            "type": "contour"
           }
          ],
          "contourcarpet": [
           {
            "colorbar": {
             "outlinewidth": 0,
             "ticks": ""
            },
            "type": "contourcarpet"
           }
          ],
          "heatmap": [
           {
            "colorbar": {
             "outlinewidth": 0,
             "ticks": ""
            },
            "colorscale": [
             [
              0,
              "#0d0887"
             ],
             [
              0.1111111111111111,
              "#46039f"
             ],
             [
              0.2222222222222222,
              "#7201a8"
             ],
             [
              0.3333333333333333,
              "#9c179e"
             ],
             [
              0.4444444444444444,
              "#bd3786"
             ],
             [
              0.5555555555555556,
              "#d8576b"
             ],
             [
              0.6666666666666666,
              "#ed7953"
             ],
             [
              0.7777777777777778,
              "#fb9f3a"
             ],
             [
              0.8888888888888888,
              "#fdca26"
             ],
             [
              1,
              "#f0f921"
             ]
            ],
            "type": "heatmap"
           }
          ],
          "heatmapgl": [
           {
            "colorbar": {
             "outlinewidth": 0,
             "ticks": ""
            },
            "colorscale": [
             [
              0,
              "#0d0887"
             ],
             [
              0.1111111111111111,
              "#46039f"
             ],
             [
              0.2222222222222222,
              "#7201a8"
             ],
             [
              0.3333333333333333,
              "#9c179e"
             ],
             [
              0.4444444444444444,
              "#bd3786"
             ],
             [
              0.5555555555555556,
              "#d8576b"
             ],
             [
              0.6666666666666666,
              "#ed7953"
             ],
             [
              0.7777777777777778,
              "#fb9f3a"
             ],
             [
              0.8888888888888888,
              "#fdca26"
             ],
             [
              1,
              "#f0f921"
             ]
            ],
            "type": "heatmapgl"
           }
          ],
          "histogram": [
           {
            "marker": {
             "pattern": {
              "fillmode": "overlay",
              "size": 10,
              "solidity": 0.2
             }
            },
            "type": "histogram"
           }
          ],
          "histogram2d": [
           {
            "colorbar": {
             "outlinewidth": 0,
             "ticks": ""
            },
            "colorscale": [
             [
              0,
              "#0d0887"
             ],
             [
              0.1111111111111111,
              "#46039f"
             ],
             [
              0.2222222222222222,
              "#7201a8"
             ],
             [
              0.3333333333333333,
              "#9c179e"
             ],
             [
              0.4444444444444444,
              "#bd3786"
             ],
             [
              0.5555555555555556,
              "#d8576b"
             ],
             [
              0.6666666666666666,
              "#ed7953"
             ],
             [
              0.7777777777777778,
              "#fb9f3a"
             ],
             [
              0.8888888888888888,
              "#fdca26"
             ],
             [
              1,
              "#f0f921"
             ]
            ],
            "type": "histogram2d"
           }
          ],
          "histogram2dcontour": [
           {
            "colorbar": {
             "outlinewidth": 0,
             "ticks": ""
            },
            "colorscale": [
             [
              0,
              "#0d0887"
             ],
             [
              0.1111111111111111,
              "#46039f"
             ],
             [
              0.2222222222222222,
              "#7201a8"
             ],
             [
              0.3333333333333333,
              "#9c179e"
             ],
             [
              0.4444444444444444,
              "#bd3786"
             ],
             [
              0.5555555555555556,
              "#d8576b"
             ],
             [
              0.6666666666666666,
              "#ed7953"
             ],
             [
              0.7777777777777778,
              "#fb9f3a"
             ],
             [
              0.8888888888888888,
              "#fdca26"
             ],
             [
              1,
              "#f0f921"
             ]
            ],
            "type": "histogram2dcontour"
           }
          ],
          "mesh3d": [
           {
            "colorbar": {
             "outlinewidth": 0,
             "ticks": ""
            },
            "type": "mesh3d"
           }
          ],
          "parcoords": [
           {
            "line": {
             "colorbar": {
              "outlinewidth": 0,
              "ticks": ""
             }
            },
            "type": "parcoords"
           }
          ],
          "pie": [
           {
            "automargin": true,
            "type": "pie"
           }
          ],
          "scatter": [
           {
            "fillpattern": {
             "fillmode": "overlay",
             "size": 10,
             "solidity": 0.2
            },
            "type": "scatter"
           }
          ],
          "scatter3d": [
           {
            "line": {
             "colorbar": {
              "outlinewidth": 0,
              "ticks": ""
             }
            },
            "marker": {
             "colorbar": {
              "outlinewidth": 0,
              "ticks": ""
             }
            },
            "type": "scatter3d"
           }
          ],
          "scattercarpet": [
           {
            "marker": {
             "colorbar": {
              "outlinewidth": 0,
              "ticks": ""
             }
            },
            "type": "scattercarpet"
           }
          ],
          "scattergeo": [
           {
            "marker": {
             "colorbar": {
              "outlinewidth": 0,
              "ticks": ""
             }
            },
            "type": "scattergeo"
           }
          ],
          "scattergl": [
           {
            "marker": {
             "colorbar": {
              "outlinewidth": 0,
              "ticks": ""
             }
            },
            "type": "scattergl"
           }
          ],
          "scattermapbox": [
           {
            "marker": {
             "colorbar": {
              "outlinewidth": 0,
              "ticks": ""
             }
            },
            "type": "scattermapbox"
           }
          ],
          "scatterpolar": [
           {
            "marker": {
             "colorbar": {
              "outlinewidth": 0,
              "ticks": ""
             }
            },
            "type": "scatterpolar"
           }
          ],
          "scatterpolargl": [
           {
            "marker": {
             "colorbar": {
              "outlinewidth": 0,
              "ticks": ""
             }
            },
            "type": "scatterpolargl"
           }
          ],
          "scatterternary": [
           {
            "marker": {
             "colorbar": {
              "outlinewidth": 0,
              "ticks": ""
             }
            },
            "type": "scatterternary"
           }
          ],
          "surface": [
           {
            "colorbar": {
             "outlinewidth": 0,
             "ticks": ""
            },
            "colorscale": [
             [
              0,
              "#0d0887"
             ],
             [
              0.1111111111111111,
              "#46039f"
             ],
             [
              0.2222222222222222,
              "#7201a8"
             ],
             [
              0.3333333333333333,
              "#9c179e"
             ],
             [
              0.4444444444444444,
              "#bd3786"
             ],
             [
              0.5555555555555556,
              "#d8576b"
             ],
             [
              0.6666666666666666,
              "#ed7953"
             ],
             [
              0.7777777777777778,
              "#fb9f3a"
             ],
             [
              0.8888888888888888,
              "#fdca26"
             ],
             [
              1,
              "#f0f921"
             ]
            ],
            "type": "surface"
           }
          ],
          "table": [
           {
            "cells": {
             "fill": {
              "color": "#EBF0F8"
             },
             "line": {
              "color": "white"
             }
            },
            "header": {
             "fill": {
              "color": "#C8D4E3"
             },
             "line": {
              "color": "white"
             }
            },
            "type": "table"
           }
          ]
         },
         "layout": {
          "annotationdefaults": {
           "arrowcolor": "#2a3f5f",
           "arrowhead": 0,
           "arrowwidth": 1
          },
          "autotypenumbers": "strict",
          "coloraxis": {
           "colorbar": {
            "outlinewidth": 0,
            "ticks": ""
           }
          },
          "colorscale": {
           "diverging": [
            [
             0,
             "#8e0152"
            ],
            [
             0.1,
             "#c51b7d"
            ],
            [
             0.2,
             "#de77ae"
            ],
            [
             0.3,
             "#f1b6da"
            ],
            [
             0.4,
             "#fde0ef"
            ],
            [
             0.5,
             "#f7f7f7"
            ],
            [
             0.6,
             "#e6f5d0"
            ],
            [
             0.7,
             "#b8e186"
            ],
            [
             0.8,
             "#7fbc41"
            ],
            [
             0.9,
             "#4d9221"
            ],
            [
             1,
             "#276419"
            ]
           ],
           "sequential": [
            [
             0,
             "#0d0887"
            ],
            [
             0.1111111111111111,
             "#46039f"
            ],
            [
             0.2222222222222222,
             "#7201a8"
            ],
            [
             0.3333333333333333,
             "#9c179e"
            ],
            [
             0.4444444444444444,
             "#bd3786"
            ],
            [
             0.5555555555555556,
             "#d8576b"
            ],
            [
             0.6666666666666666,
             "#ed7953"
            ],
            [
             0.7777777777777778,
             "#fb9f3a"
            ],
            [
             0.8888888888888888,
             "#fdca26"
            ],
            [
             1,
             "#f0f921"
            ]
           ],
           "sequentialminus": [
            [
             0,
             "#0d0887"
            ],
            [
             0.1111111111111111,
             "#46039f"
            ],
            [
             0.2222222222222222,
             "#7201a8"
            ],
            [
             0.3333333333333333,
             "#9c179e"
            ],
            [
             0.4444444444444444,
             "#bd3786"
            ],
            [
             0.5555555555555556,
             "#d8576b"
            ],
            [
             0.6666666666666666,
             "#ed7953"
            ],
            [
             0.7777777777777778,
             "#fb9f3a"
            ],
            [
             0.8888888888888888,
             "#fdca26"
            ],
            [
             1,
             "#f0f921"
            ]
           ]
          },
          "colorway": [
           "#636efa",
           "#EF553B",
           "#00cc96",
           "#ab63fa",
           "#FFA15A",
           "#19d3f3",
           "#FF6692",
           "#B6E880",
           "#FF97FF",
           "#FECB52"
          ],
          "font": {
           "color": "#2a3f5f"
          },
          "geo": {
           "bgcolor": "white",
           "lakecolor": "white",
           "landcolor": "#E5ECF6",
           "showlakes": true,
           "showland": true,
           "subunitcolor": "white"
          },
          "hoverlabel": {
           "align": "left"
          },
          "hovermode": "closest",
          "mapbox": {
           "style": "light"
          },
          "paper_bgcolor": "white",
          "plot_bgcolor": "#E5ECF6",
          "polar": {
           "angularaxis": {
            "gridcolor": "white",
            "linecolor": "white",
            "ticks": ""
           },
           "bgcolor": "#E5ECF6",
           "radialaxis": {
            "gridcolor": "white",
            "linecolor": "white",
            "ticks": ""
           }
          },
          "scene": {
           "xaxis": {
            "backgroundcolor": "#E5ECF6",
            "gridcolor": "white",
            "gridwidth": 2,
            "linecolor": "white",
            "showbackground": true,
            "ticks": "",
            "zerolinecolor": "white"
           },
           "yaxis": {
            "backgroundcolor": "#E5ECF6",
            "gridcolor": "white",
            "gridwidth": 2,
            "linecolor": "white",
            "showbackground": true,
            "ticks": "",
            "zerolinecolor": "white"
           },
           "zaxis": {
            "backgroundcolor": "#E5ECF6",
            "gridcolor": "white",
            "gridwidth": 2,
            "linecolor": "white",
            "showbackground": true,
            "ticks": "",
            "zerolinecolor": "white"
           }
          },
          "shapedefaults": {
           "line": {
            "color": "#2a3f5f"
           }
          },
          "ternary": {
           "aaxis": {
            "gridcolor": "white",
            "linecolor": "white",
            "ticks": ""
           },
           "baxis": {
            "gridcolor": "white",
            "linecolor": "white",
            "ticks": ""
           },
           "bgcolor": "#E5ECF6",
           "caxis": {
            "gridcolor": "white",
            "linecolor": "white",
            "ticks": ""
           }
          },
          "title": {
           "x": 0.05
          },
          "xaxis": {
           "automargin": true,
           "gridcolor": "white",
           "linecolor": "white",
           "ticks": "",
           "title": {
            "standoff": 15
           },
           "zerolinecolor": "white",
           "zerolinewidth": 2
          },
          "yaxis": {
           "automargin": true,
           "gridcolor": "white",
           "linecolor": "white",
           "ticks": "",
           "title": {
            "standoff": 15
           },
           "zerolinecolor": "white",
           "zerolinewidth": 2
          }
         }
        },
        "xaxis": {
         "anchor": "y",
         "domain": [
          0,
          1
         ],
         "title": {
          "text": "Time"
         }
        },
        "yaxis": {
         "anchor": "x",
         "domain": [
          0,
          1
         ],
         "title": {
          "text": "Volume"
         }
        }
       }
      }
     },
     "metadata": {},
     "output_type": "display_data"
    }
   ],
   "source": [
    "# Sort data by Time\n",
    "pm_data.sort_values(by='Time', inplace=True)\n",
    "\n",
    "# Group by ID and Time, sum the volumes\n",
    "grouped_data = pm_data.groupby(['ID', 'Time'])['Volume'].sum().reset_index()\n",
    "\n",
    "# Plotting\n",
    "fig = px.line(grouped_data, x='Time', y='Volume', color='ID', labels={'Volume': 'Volume', 'Time': 'Time'})\n",
    "\n",
    "# Show the plot\n",
    "fig.show()"
   ]
  },
  {
   "cell_type": "code",
   "execution_count": 21,
   "metadata": {},
   "outputs": [
    {
     "data": {
      "text/html": [
       "<div>\n",
       "<style scoped>\n",
       "    .dataframe tbody tr th:only-of-type {\n",
       "        vertical-align: middle;\n",
       "    }\n",
       "\n",
       "    .dataframe tbody tr th {\n",
       "        vertical-align: top;\n",
       "    }\n",
       "\n",
       "    .dataframe thead th {\n",
       "        text-align: right;\n",
       "    }\n",
       "</style>\n",
       "<table border=\"1\" class=\"dataframe\">\n",
       "  <thead>\n",
       "    <tr style=\"text-align: right;\">\n",
       "      <th></th>\n",
       "      <th>ID</th>\n",
       "      <th>Time</th>\n",
       "      <th>NBSB</th>\n",
       "      <th>Volume</th>\n",
       "    </tr>\n",
       "  </thead>\n",
       "  <tbody>\n",
       "    <tr>\n",
       "      <th>0</th>\n",
       "      <td>7800</td>\n",
       "      <td>00:00:00</td>\n",
       "      <td>other</td>\n",
       "      <td>10.333333</td>\n",
       "    </tr>\n",
       "    <tr>\n",
       "      <th>1</th>\n",
       "      <td>7800</td>\n",
       "      <td>00:00:00</td>\n",
       "      <td>southbound</td>\n",
       "      <td>18.600000</td>\n",
       "    </tr>\n",
       "    <tr>\n",
       "      <th>2</th>\n",
       "      <td>7800</td>\n",
       "      <td>00:15:00</td>\n",
       "      <td>other</td>\n",
       "      <td>10.411111</td>\n",
       "    </tr>\n",
       "    <tr>\n",
       "      <th>3</th>\n",
       "      <td>7800</td>\n",
       "      <td>00:15:00</td>\n",
       "      <td>southbound</td>\n",
       "      <td>18.300000</td>\n",
       "    </tr>\n",
       "    <tr>\n",
       "      <th>4</th>\n",
       "      <td>7800</td>\n",
       "      <td>00:30:00</td>\n",
       "      <td>other</td>\n",
       "      <td>10.800000</td>\n",
       "    </tr>\n",
       "    <tr>\n",
       "      <th>...</th>\n",
       "      <td>...</td>\n",
       "      <td>...</td>\n",
       "      <td>...</td>\n",
       "      <td>...</td>\n",
       "    </tr>\n",
       "    <tr>\n",
       "      <th>3834</th>\n",
       "      <td>7819</td>\n",
       "      <td>23:30:00</td>\n",
       "      <td>other</td>\n",
       "      <td>10.251190</td>\n",
       "    </tr>\n",
       "    <tr>\n",
       "      <th>3835</th>\n",
       "      <td>7819</td>\n",
       "      <td>23:30:00</td>\n",
       "      <td>southbound</td>\n",
       "      <td>25.611111</td>\n",
       "    </tr>\n",
       "    <tr>\n",
       "      <th>3836</th>\n",
       "      <td>7819</td>\n",
       "      <td>23:45:00</td>\n",
       "      <td>northbound</td>\n",
       "      <td>14.708333</td>\n",
       "    </tr>\n",
       "    <tr>\n",
       "      <th>3837</th>\n",
       "      <td>7819</td>\n",
       "      <td>23:45:00</td>\n",
       "      <td>other</td>\n",
       "      <td>8.430556</td>\n",
       "    </tr>\n",
       "    <tr>\n",
       "      <th>3838</th>\n",
       "      <td>7819</td>\n",
       "      <td>23:45:00</td>\n",
       "      <td>southbound</td>\n",
       "      <td>24.777778</td>\n",
       "    </tr>\n",
       "  </tbody>\n",
       "</table>\n",
       "<p>3839 rows × 4 columns</p>\n",
       "</div>"
      ],
      "text/plain": [
       "        ID      Time        NBSB     Volume\n",
       "0     7800  00:00:00       other  10.333333\n",
       "1     7800  00:00:00  southbound  18.600000\n",
       "2     7800  00:15:00       other  10.411111\n",
       "3     7800  00:15:00  southbound  18.300000\n",
       "4     7800  00:30:00       other  10.800000\n",
       "...    ...       ...         ...        ...\n",
       "3834  7819  23:30:00       other  10.251190\n",
       "3835  7819  23:30:00  southbound  25.611111\n",
       "3836  7819  23:45:00  northbound  14.708333\n",
       "3837  7819  23:45:00       other   8.430556\n",
       "3838  7819  23:45:00  southbound  24.777778\n",
       "\n",
       "[3839 rows x 4 columns]"
      ]
     },
     "execution_count": 21,
     "metadata": {},
     "output_type": "execute_result"
    }
   ],
   "source": [
    "cleandata"
   ]
  },
  {
   "cell_type": "code",
   "execution_count": 27,
   "metadata": {},
   "outputs": [
    {
     "data": {
      "application/vnd.plotly.v1+json": {
       "config": {
        "plotlyServerURL": "https://plot.ly"
       },
       "data": [
        {
         "hovertemplate": "ID=7800<br>Time=%{x}<br>Volume=%{y}<extra></extra>",
         "legendgroup": "7800",
         "line": {
          "color": "#636efa",
          "dash": "solid"
         },
         "marker": {
          "symbol": "circle"
         },
         "mode": "lines",
         "name": "7800",
         "showlegend": true,
         "type": "scattergl",
         "x": [
          "00:00:00",
          "00:15:00",
          "00:30:00",
          "00:45:00",
          "01:00:00",
          "01:15:00",
          "01:30:00",
          "01:45:00",
          "02:00:00",
          "02:15:00",
          "02:30:00",
          "02:45:00",
          "03:00:00",
          "03:15:00",
          "03:30:00",
          "03:45:00",
          "04:00:00",
          "04:15:00",
          "04:30:00",
          "04:45:00",
          "05:00:00",
          "05:15:00",
          "05:30:00",
          "05:45:00",
          "06:00:00",
          "06:15:00",
          "06:30:00",
          "06:45:00",
          "07:00:00",
          "07:15:00",
          "07:30:00",
          "07:45:00",
          "08:00:00",
          "08:15:00",
          "08:30:00",
          "08:45:00",
          "09:00:00",
          "09:15:00",
          "09:30:00",
          "09:45:00",
          "10:00:00",
          "10:15:00",
          "10:30:00",
          "10:45:00",
          "11:00:00",
          "11:15:00",
          "11:30:00",
          "11:45:00",
          "12:00:00",
          "12:15:00",
          "12:30:00",
          "12:45:00",
          "13:00:00",
          "13:15:00",
          "13:30:00",
          "13:45:00",
          "14:00:00",
          "14:15:00",
          "14:30:00",
          "14:45:00",
          "15:00:00",
          "15:15:00",
          "15:30:00",
          "15:45:00",
          "16:00:00",
          "16:15:00",
          "16:30:00",
          "16:45:00",
          "17:00:00",
          "17:15:00",
          "17:30:00",
          "17:45:00",
          "18:00:00",
          "18:15:00",
          "18:30:00",
          "18:45:00",
          "19:00:00",
          "19:15:00",
          "19:30:00",
          "19:45:00",
          "20:00:00",
          "20:15:00",
          "20:30:00",
          "20:45:00",
          "21:00:00",
          "21:15:00",
          "21:30:00",
          "21:45:00",
          "22:00:00",
          "22:15:00",
          "22:30:00",
          "22:45:00",
          "23:00:00",
          "23:15:00",
          "23:30:00",
          "23:45:00"
         ],
         "xaxis": "x",
         "y": [
          18.6,
          18.3,
          14.177777777777777,
          11.1,
          9.5,
          9.733333333333334,
          8.333333333333332,
          10.3,
          7.222222222222221,
          8.1,
          8.333333333333334,
          8.588888888888889,
          9.5,
          7.857142857142858,
          7.222222222222222,
          6.35,
          7.375,
          11.100000000000001,
          16.1,
          22.5,
          20.6,
          25.3,
          22.799999999999997,
          26.3,
          35,
          48.9,
          68.7,
          81.5,
          68.7,
          74.1,
          85.39999999999999,
          82.1,
          81.89999999999999,
          78.8,
          81.69999999999999,
          83.69999999999999,
          95.8,
          91.8,
          97.1,
          96.7,
          83.4,
          84.5,
          89.1,
          91.30000000000001,
          86.8,
          89.3,
          95.30000000000001,
          105.4,
          104.5,
          112.4,
          103.5,
          106.3,
          109,
          106.80000000000001,
          108.8,
          118.9,
          123.5,
          141.3,
          147.2,
          156.7,
          126.80000000000001,
          155.8,
          153.9,
          172.5,
          173.20000000000002,
          203.5,
          204.6,
          194.7,
          195.7,
          207.6,
          204.60000000000002,
          192.8,
          161.9,
          144.70000000000002,
          136.7,
          107.6,
          142,
          122,
          109.8,
          115.9,
          100.5,
          97.5,
          104.6,
          95,
          75.6,
          61.2,
          60.2,
          56.8,
          47.5,
          47.099999999999994,
          43.1,
          38.4,
          29.1,
          29.5,
          27.200000000000003,
          27.2
         ],
         "yaxis": "y"
        },
        {
         "hovertemplate": "ID=7801<br>Time=%{x}<br>Volume=%{y}<extra></extra>",
         "legendgroup": "7801",
         "line": {
          "color": "#EF553B",
          "dash": "solid"
         },
         "marker": {
          "symbol": "circle"
         },
         "mode": "lines",
         "name": "7801",
         "showlegend": true,
         "type": "scattergl",
         "x": [
          "00:00:00",
          "00:15:00",
          "00:30:00",
          "00:45:00",
          "01:00:00",
          "01:15:00",
          "01:30:00",
          "01:45:00",
          "02:00:00",
          "02:15:00",
          "02:30:00",
          "02:45:00",
          "03:00:00",
          "03:15:00",
          "03:30:00",
          "03:45:00",
          "04:00:00",
          "04:15:00",
          "04:30:00",
          "04:45:00",
          "05:00:00",
          "05:15:00",
          "05:30:00",
          "05:45:00",
          "06:00:00",
          "06:15:00",
          "06:30:00",
          "06:45:00",
          "07:00:00",
          "07:15:00",
          "07:30:00",
          "07:45:00",
          "08:00:00",
          "08:15:00",
          "08:30:00",
          "08:45:00",
          "09:00:00",
          "09:15:00",
          "09:30:00",
          "09:45:00",
          "10:00:00",
          "10:15:00",
          "10:30:00",
          "10:45:00",
          "11:00:00",
          "11:15:00",
          "11:30:00",
          "11:45:00",
          "12:00:00",
          "12:15:00",
          "12:30:00",
          "12:45:00",
          "13:00:00",
          "13:15:00",
          "13:30:00",
          "13:45:00",
          "14:00:00",
          "14:15:00",
          "14:30:00",
          "14:45:00",
          "15:00:00",
          "15:15:00",
          "15:30:00",
          "15:45:00",
          "16:00:00",
          "16:15:00",
          "16:30:00",
          "16:45:00",
          "17:00:00",
          "17:15:00",
          "17:30:00",
          "17:45:00",
          "18:00:00",
          "18:15:00",
          "18:30:00",
          "18:45:00",
          "19:00:00",
          "19:15:00",
          "19:30:00",
          "19:45:00",
          "20:00:00",
          "20:15:00",
          "20:30:00",
          "20:45:00",
          "21:00:00",
          "21:15:00",
          "21:30:00",
          "21:45:00",
          "22:00:00",
          "22:15:00",
          "22:30:00",
          "22:45:00",
          "23:00:00",
          "23:15:00",
          "23:30:00",
          "23:45:00"
         ],
         "xaxis": "x",
         "y": [
          38.77777777777778,
          40.02777777777778,
          36,
          28.180555555555557,
          26,
          26.888888888888886,
          20.77777777777778,
          29.611111111111114,
          24.666666666666668,
          23.333333333333336,
          24.26388888888889,
          27,
          29.555555555555557,
          39.55555555555556,
          40.83333333333333,
          44.611111111111114,
          54.977777777777774,
          91.45833333333333,
          115.54166666666667,
          131.11111111111111,
          222.86111111111111,
          306.55555555555554,
          301.6190476190476,
          314.85277777777776,
          376.66666666666663,
          484.3333333333333,
          478.4861111111111,
          476.45833333333337,
          452,
          528.4027777777778,
          491.53968253968253,
          475.11111111111114,
          409.1666666666667,
          405.4444444444444,
          377.26984126984127,
          355.2361111111111,
          333.68055555555554,
          354.02777777777777,
          320.79166666666663,
          307.66666666666663,
          273.06944444444446,
          297.6666666666667,
          284.4888888888889,
          283.77777777777777,
          280.8412698412698,
          298.05555555555554,
          299.30555555555554,
          302.92063492063494,
          321.8888888888889,
          343.53968253968253,
          338.4920634920635,
          328.17777777777775,
          325.031746031746,
          358.16666666666663,
          349.7111111111111,
          351.4920634920635,
          353.8888888888889,
          387.61111111111114,
          404.19444444444446,
          431.87301587301585,
          401.16666666666663,
          469.5833333333333,
          475.16666666666663,
          545.2222222222222,
          572,
          604.8333333333333,
          609.2444444444445,
          613.8333333333334,
          612,
          632.3333333333334,
          612.2222222222222,
          583.7619047619048,
          544,
          522,
          455.80555555555554,
          377.97777777777776,
          321.77777777777777,
          319.8888888888889,
          280.44444444444446,
          283.05555555555554,
          260.3333333333333,
          262.44444444444446,
          232.4920634920635,
          202.88888888888886,
          210.19444444444446,
          184.33333333333331,
          168.42857142857142,
          144.015873015873,
          126.44444444444443,
          112.25000000000001,
          98.39682539682539,
          84.11111111111111,
          77.46388888888889,
          68.625,
          64.125,
          49.66666666666667
         ],
         "yaxis": "y"
        },
        {
         "hovertemplate": "ID=7802<br>Time=%{x}<br>Volume=%{y}<extra></extra>",
         "legendgroup": "7802",
         "line": {
          "color": "#00cc96",
          "dash": "solid"
         },
         "marker": {
          "symbol": "circle"
         },
         "mode": "lines",
         "name": "7802",
         "showlegend": true,
         "type": "scattergl",
         "x": [
          "00:00:00",
          "00:15:00",
          "00:30:00",
          "00:45:00",
          "01:00:00",
          "01:15:00",
          "01:30:00",
          "01:45:00",
          "02:00:00",
          "02:15:00",
          "02:30:00",
          "02:45:00",
          "03:00:00",
          "03:15:00",
          "03:30:00",
          "03:45:00",
          "04:00:00",
          "04:15:00",
          "04:30:00",
          "04:45:00",
          "05:00:00",
          "05:15:00",
          "05:30:00",
          "05:45:00",
          "06:00:00",
          "06:15:00",
          "06:30:00",
          "06:45:00",
          "07:00:00",
          "07:15:00",
          "07:30:00",
          "07:45:00",
          "08:00:00",
          "08:15:00",
          "08:30:00",
          "08:45:00",
          "09:00:00",
          "09:15:00",
          "09:30:00",
          "09:45:00",
          "10:00:00",
          "10:15:00",
          "10:30:00",
          "10:45:00",
          "11:00:00",
          "11:15:00",
          "11:30:00",
          "11:45:00",
          "12:00:00",
          "12:15:00",
          "12:30:00",
          "12:45:00",
          "13:00:00",
          "13:15:00",
          "13:30:00",
          "13:45:00",
          "14:00:00",
          "14:15:00",
          "14:30:00",
          "14:45:00",
          "15:00:00",
          "15:15:00",
          "15:30:00",
          "15:45:00",
          "16:00:00",
          "16:15:00",
          "16:30:00",
          "16:45:00",
          "17:00:00",
          "17:15:00",
          "17:30:00",
          "17:45:00",
          "18:00:00",
          "18:15:00",
          "18:30:00",
          "18:45:00",
          "19:00:00",
          "19:15:00",
          "19:30:00",
          "19:45:00",
          "20:00:00",
          "20:15:00",
          "20:30:00",
          "20:45:00",
          "21:00:00",
          "21:15:00",
          "21:30:00",
          "21:45:00",
          "22:00:00",
          "22:15:00",
          "22:30:00",
          "22:45:00",
          "23:00:00",
          "23:15:00",
          "23:30:00",
          "23:45:00"
         ],
         "xaxis": "x",
         "y": [
          46.95833333333333,
          49.34920634920635,
          42.975,
          31.111111111111114,
          34.76190476190476,
          30.361111111111114,
          29.206349206349206,
          33.05555555555556,
          28.304761904761904,
          30.2,
          32.72222222222222,
          35.22222222222222,
          48.55555555555556,
          64,
          68.44126984126984,
          66.5,
          92.31746031746032,
          127.48611111111111,
          175.8888888888889,
          168.02777777777777,
          267.3333333333333,
          361.08333333333337,
          405.04761904761904,
          400.80555555555554,
          502.06944444444446,
          582.2222222222222,
          587.2222222222223,
          553,
          587.5555555555555,
          637.7333333333333,
          621.8444444444444,
          606.5555555555557,
          548.3611111111111,
          506.5333333333333,
          487.12698412698415,
          427.66666666666663,
          401.0444444444445,
          398.6888888888889,
          367.1428571428571,
          350.94444444444446,
          337.72222222222223,
          340.19444444444446,
          346.6111111111111,
          336.55555555555554,
          336.8333333333333,
          352.55555555555554,
          366.7555555555556,
          360.6111111111111,
          375.2222222222222,
          382.8888888888889,
          379,
          384.8888888888889,
          388,
          417.55555555555554,
          409.33333333333337,
          400.16666666666663,
          393.5111111111111,
          443.4861111111111,
          467.05555555555554,
          511.77777777777777,
          502.66666666666663,
          558.2857142857142,
          589.6666666666666,
          657.3333333333333,
          673.0833333333333,
          693.3333333333334,
          706.7777777777778,
          698.5111111111111,
          702,
          723.1111111111111,
          693.2777777777778,
          673.2222222222222,
          627.2222222222222,
          583.5555555555555,
          525,
          433,
          375.2222222222222,
          365.66666666666663,
          334.8888888888889,
          327,
          298.66666666666663,
          295.22222222222223,
          272.1111111111111,
          237,
          228.44444444444446,
          212.77777777777777,
          190.44444444444443,
          162.55555555555554,
          148.33333333333331,
          120.77777777777777,
          111.44444444444444,
          96.55555555555554,
          91.125,
          82.14285714285714,
          68.60714285714286,
          53.833333333333336
         ],
         "yaxis": "y"
        },
        {
         "hovertemplate": "ID=7803<br>Time=%{x}<br>Volume=%{y}<extra></extra>",
         "legendgroup": "7803",
         "line": {
          "color": "#ab63fa",
          "dash": "solid"
         },
         "marker": {
          "symbol": "circle"
         },
         "mode": "lines",
         "name": "7803",
         "showlegend": true,
         "type": "scattergl",
         "x": [
          "00:00:00",
          "00:15:00",
          "00:30:00",
          "00:45:00",
          "01:00:00",
          "01:15:00",
          "01:30:00",
          "01:45:00",
          "02:00:00",
          "02:15:00",
          "02:30:00",
          "02:45:00",
          "03:00:00",
          "03:15:00",
          "03:30:00",
          "03:45:00",
          "04:00:00",
          "04:15:00",
          "04:30:00",
          "04:45:00",
          "05:00:00",
          "05:15:00",
          "05:30:00",
          "05:45:00",
          "06:00:00",
          "06:15:00",
          "06:30:00",
          "06:45:00",
          "07:00:00",
          "07:15:00",
          "07:30:00",
          "07:45:00",
          "08:00:00",
          "08:15:00",
          "08:30:00",
          "08:45:00",
          "09:00:00",
          "09:15:00",
          "09:30:00",
          "09:45:00",
          "10:00:00",
          "10:15:00",
          "10:30:00",
          "10:45:00",
          "11:00:00",
          "11:15:00",
          "11:30:00",
          "11:45:00",
          "12:00:00",
          "12:15:00",
          "12:30:00",
          "12:45:00",
          "13:00:00",
          "13:15:00",
          "13:30:00",
          "13:45:00",
          "14:00:00",
          "14:15:00",
          "14:30:00",
          "14:45:00",
          "15:00:00",
          "15:15:00",
          "15:30:00",
          "15:45:00",
          "16:00:00",
          "16:15:00",
          "16:30:00",
          "16:45:00",
          "17:00:00",
          "17:15:00",
          "17:30:00",
          "17:45:00",
          "18:00:00",
          "18:15:00",
          "18:30:00",
          "18:45:00",
          "19:00:00",
          "19:15:00",
          "19:30:00",
          "19:45:00",
          "20:00:00",
          "20:15:00",
          "20:30:00",
          "20:45:00",
          "21:00:00",
          "21:15:00",
          "21:30:00",
          "21:45:00",
          "22:00:00",
          "22:15:00",
          "22:30:00",
          "22:45:00",
          "23:00:00",
          "23:15:00",
          "23:30:00",
          "23:45:00"
         ],
         "xaxis": "x",
         "y": [
          21.085714285714285,
          23.952380952380953,
          21.285714285714285,
          13.857142857142858,
          17.476190476190474,
          13.595238095238095,
          13.128571428571428,
          15.485714285714288,
          11.297619047619047,
          13.107142857142858,
          14.238095238095237,
          14.571428571428571,
          18.904761904761905,
          27.25,
          27.857142857142854,
          28.761904761904763,
          35.666666666666664,
          55.6904761904762,
          79.78571428571428,
          81.19047619047618,
          155.65476190476193,
          243.29761904761904,
          215.04761904761907,
          250.77142857142854,
          284.1190476190476,
          378.9047619047619,
          348.42857142857144,
          385.57142857142856,
          367.1190476190476,
          430.14285714285717,
          400.9761904761905,
          415.57142857142856,
          353.28571428571433,
          327.14285714285717,
          305.8571428571429,
          306.95238095238096,
          299.80952380952385,
          324.1428571428571,
          283.42857142857144,
          242.73333333333332,
          230.4,
          242.85714285714286,
          243,
          251.65714285714284,
          240,
          258.66666666666663,
          267.1428571428571,
          262.1428571428571,
          269.57142857142856,
          273,
          266.92857142857144,
          290.1428571428571,
          277.62857142857143,
          290.0857142857143,
          291.2809523809524,
          283.96666666666664,
          266.68095238095236,
          297.57142857142856,
          335.73809523809524,
          415.3571428571429,
          401,
          420.8809523809524,
          462.2857142857143,
          480.8809523809524,
          520.7619047619048,
          538.1428571428571,
          518.4,
          563.5952380952381,
          559.8571428571429,
          546.5714285714286,
          553.5952380952381,
          548.3809523809524,
          486.3142857142857,
          414.83333333333337,
          409.5428571428572,
          320.8571428571429,
          288.9047619047619,
          264.2857142857143,
          254.5142857142857,
          235.18571428571428,
          216.61904761904765,
          202.14285714285714,
          184,
          149,
          151.61904761904762,
          124.28571428571429,
          118.14285714285715,
          93.42857142857144,
          86.85714285714286,
          67.57142857142858,
          61.60714285714286,
          53.42857142857143,
          46.42857142857143,
          40.04761904761905,
          30.923809523809524,
          24
         ],
         "yaxis": "y"
        },
        {
         "hovertemplate": "ID=7804<br>Time=%{x}<br>Volume=%{y}<extra></extra>",
         "legendgroup": "7804",
         "line": {
          "color": "#FFA15A",
          "dash": "solid"
         },
         "marker": {
          "symbol": "circle"
         },
         "mode": "lines",
         "name": "7804",
         "showlegend": true,
         "type": "scattergl",
         "x": [
          "00:00:00",
          "00:15:00",
          "00:30:00",
          "00:45:00",
          "01:00:00",
          "01:15:00",
          "01:30:00",
          "01:45:00",
          "02:00:00",
          "02:15:00",
          "02:30:00",
          "02:45:00",
          "03:00:00",
          "03:15:00",
          "03:30:00",
          "03:45:00",
          "04:00:00",
          "04:15:00",
          "04:30:00",
          "04:45:00",
          "05:00:00",
          "05:15:00",
          "05:30:00",
          "05:45:00",
          "06:00:00",
          "06:15:00",
          "06:30:00",
          "06:45:00",
          "07:00:00",
          "07:15:00",
          "07:30:00",
          "07:45:00",
          "08:00:00",
          "08:15:00",
          "08:30:00",
          "08:45:00",
          "09:00:00",
          "09:15:00",
          "09:30:00",
          "09:45:00",
          "10:00:00",
          "10:15:00",
          "10:30:00",
          "10:45:00",
          "11:00:00",
          "11:15:00",
          "11:30:00",
          "11:45:00",
          "12:00:00",
          "12:15:00",
          "12:30:00",
          "12:45:00",
          "13:00:00",
          "13:15:00",
          "13:30:00",
          "13:45:00",
          "14:00:00",
          "14:15:00",
          "14:30:00",
          "14:45:00",
          "15:00:00",
          "15:15:00",
          "15:30:00",
          "15:45:00",
          "16:00:00",
          "16:15:00",
          "16:30:00",
          "16:45:00",
          "17:00:00",
          "17:15:00",
          "17:30:00",
          "17:45:00",
          "18:00:00",
          "18:15:00",
          "18:30:00",
          "18:45:00",
          "19:00:00",
          "19:15:00",
          "19:30:00",
          "19:45:00",
          "20:00:00",
          "20:15:00",
          "20:30:00",
          "20:45:00",
          "21:00:00",
          "21:15:00",
          "21:30:00",
          "21:45:00",
          "22:00:00",
          "22:15:00",
          "22:30:00",
          "22:45:00",
          "23:00:00",
          "23:15:00",
          "23:30:00",
          "23:45:00"
         ],
         "xaxis": "x",
         "y": [
          35.888888888888886,
          37,
          32.72222222222222,
          21.24126984126984,
          23.375,
          22.244444444444444,
          20.166666666666664,
          21.166666666666668,
          22,
          22.642857142857142,
          23,
          22.02777777777778,
          36.888888888888886,
          45.61111111111111,
          50.7,
          48.72222222222223,
          63.666666666666664,
          87.47222222222221,
          109.6111111111111,
          123.08730158730158,
          187.02777777777777,
          285.40000000000003,
          278.515873015873,
          308.4,
          371.05555555555554,
          449.1111111111111,
          419.05555555555554,
          443.5873015873016,
          449.44444444444446,
          530.6666666666667,
          555.7777777777778,
          600.1111111111111,
          472.55555555555554,
          464.5,
          424.66666666666663,
          389.8888888888889,
          377.70833333333337,
          351.7361111111111,
          324.68055555555554,
          337.6666666666667,
          308,
          348.18055555555554,
          326.8888888888889,
          317.44444444444446,
          321.33333333333337,
          338.44444444444446,
          355.4722222222222,
          353.44444444444446,
          369.2222222222222,
          361.0833333333333,
          355.93055555555554,
          367.44444444444446,
          356.55555555555554,
          390.55555555555554,
          384.8888888888889,
          371.8888888888889,
          360.8888888888889,
          409,
          463.8888888888889,
          497.1111111111111,
          450.33333333333337,
          477.1111111111111,
          518.7777777777778,
          584.7777777777778,
          575.6666666666666,
          599.1111111111111,
          580.7777777777778,
          596.2222222222223,
          610.3333333333334,
          598.8888888888889,
          580.4444444444443,
          583.4444444444445,
          542.7777777777778,
          527.5555555555555,
          487.8888888888889,
          427,
          379.1111111111111,
          378.1111111111111,
          353.2222222222222,
          337.8888888888889,
          313.33333333333337,
          292.77777777777777,
          258.27777777777777,
          231.98611111111111,
          209.72222222222223,
          193.87301587301587,
          184,
          132.61904761904762,
          115.77777777777777,
          97.55555555555556,
          84.22222222222223,
          69.22420634920634,
          64,
          58.797222222222224,
          49.894444444444446,
          41.638888888888886
         ],
         "yaxis": "y"
        },
        {
         "hovertemplate": "ID=7805<br>Time=%{x}<br>Volume=%{y}<extra></extra>",
         "legendgroup": "7805",
         "line": {
          "color": "#19d3f3",
          "dash": "solid"
         },
         "marker": {
          "symbol": "circle"
         },
         "mode": "lines",
         "name": "7805",
         "showlegend": true,
         "type": "scattergl",
         "x": [
          "00:00:00",
          "00:15:00",
          "00:30:00",
          "00:45:00",
          "01:00:00",
          "01:15:00",
          "01:30:00",
          "01:45:00",
          "02:00:00",
          "02:15:00",
          "02:30:00",
          "02:45:00",
          "03:00:00",
          "03:15:00",
          "03:30:00",
          "03:45:00",
          "04:00:00",
          "04:15:00",
          "04:30:00",
          "04:45:00",
          "05:00:00",
          "05:15:00",
          "05:30:00",
          "05:45:00",
          "06:00:00",
          "06:15:00",
          "06:30:00",
          "06:45:00",
          "07:00:00",
          "07:15:00",
          "07:30:00",
          "07:45:00",
          "08:00:00",
          "08:15:00",
          "08:30:00",
          "08:45:00",
          "09:00:00",
          "09:15:00",
          "09:30:00",
          "09:45:00",
          "10:00:00",
          "10:15:00",
          "10:30:00",
          "10:45:00",
          "11:00:00",
          "11:15:00",
          "11:30:00",
          "11:45:00",
          "12:00:00",
          "12:15:00",
          "12:30:00",
          "12:45:00",
          "13:00:00",
          "13:15:00",
          "13:30:00",
          "13:45:00",
          "14:00:00",
          "14:15:00",
          "14:30:00",
          "14:45:00",
          "15:00:00",
          "15:15:00",
          "15:30:00",
          "15:45:00",
          "16:00:00",
          "16:15:00",
          "16:30:00",
          "16:45:00",
          "17:00:00",
          "17:15:00",
          "17:30:00",
          "17:45:00",
          "18:00:00",
          "18:15:00",
          "18:30:00",
          "18:45:00",
          "19:00:00",
          "19:15:00",
          "19:30:00",
          "19:45:00",
          "20:00:00",
          "20:15:00",
          "20:30:00",
          "20:45:00",
          "21:00:00",
          "21:15:00",
          "21:30:00",
          "21:45:00",
          "22:00:00",
          "22:15:00",
          "22:30:00",
          "22:45:00",
          "23:00:00",
          "23:15:00",
          "23:30:00",
          "23:45:00"
         ],
         "xaxis": "x",
         "y": [
          42.294444444444444,
          41.583333333333336,
          35.486111111111114,
          27,
          27.253968253968253,
          30,
          25.75,
          25.78333333333333,
          26.22222222222222,
          29.61111111111111,
          30,
          32.27777777777778,
          37.22222222222222,
          44.98730158730159,
          48.44444444444444,
          49.77777777777778,
          63.33888888888889,
          86.5,
          115.59603174603176,
          133.29365079365078,
          193.15277777777777,
          278.54761904761904,
          290.19444444444446,
          314.91666666666663,
          372.19444444444446,
          451,
          424.1111111111111,
          476.8888888888889,
          475,
          609,
          648.3333333333334,
          733.6666666666667,
          598.8888888888889,
          513.7777777777777,
          471.6666666666667,
          486.66666666666663,
          398.3333333333333,
          378.55555555555554,
          338.44444444444446,
          349.7777777777778,
          338.1111111111111,
          378.7777777777777,
          342.66666666666663,
          346.77777777777777,
          362.1111111111111,
          382.55555555555554,
          382.8888888888889,
          415.44444444444446,
          412.66666666666663,
          399.7777777777778,
          392.44444444444446,
          397.3333333333333,
          392.8888888888889,
          420,
          423.6666666666667,
          409.44444444444446,
          415.33333333333337,
          502.3333333333333,
          545,
          648.8888888888889,
          584.7777777777778,
          580.5555555555557,
          623.5555555555557,
          688.5555555555555,
          668,
          643.1111111111111,
          630.8888888888889,
          652.4444444444445,
          650.2222222222222,
          644.6666666666666,
          624.6666666666667,
          624.4444444444445,
          623.8888888888889,
          563.7777777777778,
          514.8888888888889,
          464.1111111111111,
          407.2222222222223,
          385.44444444444446,
          359.7777777777778,
          336.7777777777778,
          338.8888888888889,
          311.1111111111111,
          275.22222222222223,
          253.30555555555554,
          230.22222222222223,
          199.11111111111111,
          185.88888888888889,
          146.34126984126982,
          129.640873015873,
          110.77182539682539,
          93.28571428571429,
          81.18055555555556,
          73.01388888888889,
          64.69444444444444,
          59.355555555555554,
          48.18055555555556
         ],
         "yaxis": "y"
        },
        {
         "hovertemplate": "ID=7811<br>Time=%{x}<br>Volume=%{y}<extra></extra>",
         "legendgroup": "7811",
         "line": {
          "color": "#FF6692",
          "dash": "solid"
         },
         "marker": {
          "symbol": "circle"
         },
         "mode": "lines",
         "name": "7811",
         "showlegend": true,
         "type": "scattergl",
         "x": [
          "00:00:00",
          "00:15:00",
          "00:30:00",
          "00:45:00",
          "01:00:00",
          "01:15:00",
          "01:30:00",
          "01:45:00",
          "02:00:00",
          "02:15:00",
          "02:30:00",
          "02:45:00",
          "03:00:00",
          "03:15:00",
          "03:30:00",
          "03:45:00",
          "04:00:00",
          "04:15:00",
          "04:30:00",
          "04:45:00",
          "05:00:00",
          "05:15:00",
          "05:30:00",
          "05:45:00",
          "06:00:00",
          "06:15:00",
          "06:30:00",
          "06:45:00",
          "07:00:00",
          "07:15:00",
          "07:30:00",
          "07:45:00",
          "08:00:00",
          "08:15:00",
          "08:30:00",
          "08:45:00",
          "09:00:00",
          "09:15:00",
          "09:30:00",
          "09:45:00",
          "10:00:00",
          "10:15:00",
          "10:30:00",
          "10:45:00",
          "11:00:00",
          "11:15:00",
          "11:30:00",
          "11:45:00",
          "12:00:00",
          "12:15:00",
          "12:30:00",
          "12:45:00",
          "13:00:00",
          "13:15:00",
          "13:30:00",
          "13:45:00",
          "14:00:00",
          "14:15:00",
          "14:30:00",
          "14:45:00",
          "15:00:00",
          "15:15:00",
          "15:30:00",
          "15:45:00",
          "16:00:00",
          "16:15:00",
          "16:30:00",
          "16:45:00",
          "17:00:00",
          "17:15:00",
          "17:30:00",
          "17:45:00",
          "18:00:00",
          "18:15:00",
          "18:30:00",
          "18:45:00",
          "19:00:00",
          "19:15:00",
          "19:30:00",
          "19:45:00",
          "20:00:00",
          "20:15:00",
          "20:30:00",
          "20:45:00",
          "21:00:00",
          "21:15:00",
          "21:30:00",
          "21:45:00",
          "22:00:00",
          "22:15:00",
          "22:30:00",
          "22:45:00",
          "23:00:00",
          "23:15:00",
          "23:30:00",
          "23:45:00"
         ],
         "xaxis": "x",
         "y": [
          24.88888888888889,
          23,
          17.666666666666668,
          14.88888888888889,
          15.666666666666666,
          18.666666666666668,
          18.888888888888886,
          17.555555555555557,
          19.375,
          18.22222222222222,
          17.888888888888886,
          26.375,
          34.263888888888886,
          42.77777777777778,
          46.75,
          44.95833333333333,
          61.22222222222222,
          79.27777777777777,
          102.22222222222221,
          120.1047619047619,
          171.58333333333334,
          226.1222222222222,
          242.58333333333334,
          287,
          331.55555555555554,
          373.98611111111114,
          347.84722222222223,
          442.79166666666663,
          408.875,
          491.2638888888889,
          552,
          606.1111111111111,
          509.8888888888889,
          470.0138888888889,
          381.44444444444446,
          466.3888888888889,
          372.3333333333333,
          365.2638888888889,
          347.05555555555554,
          359.0416666666667,
          333.44444444444446,
          373.33333333333337,
          333.44444444444446,
          354.44444444444446,
          365.08333333333337,
          373.59722222222223,
          381.2638888888889,
          409.90277777777777,
          414.8888888888889,
          412.55555555555554,
          392.9861111111111,
          416.77777777777777,
          384.15277777777777,
          411.3650793650794,
          405.875,
          431.33333333333337,
          411.1428571428571,
          449.7638888888889,
          524.4722222222222,
          570.9583333333334,
          479.68055555555554,
          479.33333333333337,
          542.7777777777777,
          602.0833333333333,
          631.7083333333333,
          607.3333333333334,
          568.8888888888888,
          572.7777777777778,
          540.8253968253969,
          535,
          522.1944444444445,
          505.55555555555554,
          494.83333333333337,
          433.05555555555554,
          397.7083333333333,
          440.06349206349205,
          352.6666666666667,
          348.41666666666663,
          294.54166666666663,
          290.3650793650794,
          273.56944444444446,
          245.3174603174603,
          222.95833333333334,
          200.29365079365078,
          180.76984126984127,
          152.02380952380952,
          131.525,
          96.94444444444446,
          87.16666666666666,
          72.78888888888889,
          55.55555555555556,
          55.66666666666667,
          44.666666666666664,
          38.91666666666667,
          35.22222222222222,
          29.333333333333336
         ],
         "yaxis": "y"
        },
        {
         "hovertemplate": "ID=7812<br>Time=%{x}<br>Volume=%{y}<extra></extra>",
         "legendgroup": "7812",
         "line": {
          "color": "#B6E880",
          "dash": "solid"
         },
         "marker": {
          "symbol": "circle"
         },
         "mode": "lines",
         "name": "7812",
         "showlegend": true,
         "type": "scattergl",
         "x": [
          "00:00:00",
          "00:15:00",
          "00:30:00",
          "00:45:00",
          "01:00:00",
          "01:15:00",
          "01:30:00",
          "01:45:00",
          "02:00:00",
          "02:15:00",
          "02:30:00",
          "02:45:00",
          "03:00:00",
          "03:15:00",
          "03:30:00",
          "03:45:00",
          "04:00:00",
          "04:15:00",
          "04:30:00",
          "04:45:00",
          "05:00:00",
          "05:15:00",
          "05:30:00",
          "05:45:00",
          "06:00:00",
          "06:15:00",
          "06:30:00",
          "06:45:00",
          "07:00:00",
          "07:15:00",
          "07:30:00",
          "07:45:00",
          "08:00:00",
          "08:15:00",
          "08:30:00",
          "08:45:00",
          "09:00:00",
          "09:15:00",
          "09:30:00",
          "09:45:00",
          "10:00:00",
          "10:15:00",
          "10:30:00",
          "10:45:00",
          "11:00:00",
          "11:15:00",
          "11:30:00",
          "11:45:00",
          "12:00:00",
          "12:15:00",
          "12:30:00",
          "12:45:00",
          "13:00:00",
          "13:15:00",
          "13:30:00",
          "13:45:00",
          "14:00:00",
          "14:15:00",
          "14:30:00",
          "14:45:00",
          "15:00:00",
          "15:15:00",
          "15:30:00",
          "15:45:00",
          "16:00:00",
          "16:15:00",
          "16:30:00",
          "16:45:00",
          "17:00:00",
          "17:15:00",
          "17:30:00",
          "17:45:00",
          "18:00:00",
          "18:15:00",
          "18:30:00",
          "18:45:00",
          "19:00:00",
          "19:15:00",
          "19:30:00",
          "19:45:00",
          "20:00:00",
          "20:15:00",
          "20:30:00",
          "20:45:00",
          "21:00:00",
          "21:15:00",
          "21:30:00",
          "21:45:00",
          "22:00:00",
          "22:15:00",
          "22:30:00",
          "22:45:00",
          "23:00:00",
          "23:15:00",
          "23:30:00",
          "23:45:00"
         ],
         "xaxis": "x",
         "y": [
          11.11111111111111,
          10,
          8.305555555555555,
          8.555555555555555,
          5.8730158730158735,
          9.222222222222221,
          6.222222222222221,
          7.666666666666667,
          9.555555555555555,
          8.61111111111111,
          12.083333333333334,
          10.952380952380953,
          19.333333333333332,
          23.88888888888889,
          24.34722222222222,
          24.666666666666668,
          37.55555555555556,
          48.888888888888886,
          53.88888888888889,
          77.55555555555556,
          100.77777777777777,
          134.11111111111111,
          146.33333333333331,
          148.33333333333334,
          190,
          180.88888888888889,
          178,
          198.11111111111111,
          209.55555555555557,
          228.22222222222223,
          230,
          226.22222222222223,
          194.77777777777777,
          198.66666666666666,
          183.44444444444446,
          197,
          171.55555555555554,
          157.77777777777777,
          144.11111111111111,
          152.11111111111111,
          148.55555555555554,
          172.77777777777777,
          155.22222222222223,
          157.77777777777777,
          159.55555555555554,
          163.88888888888889,
          164.55555555555554,
          162.66666666666666,
          177,
          177,
          174.11111111111111,
          190.55555555555554,
          189.44444444444446,
          189,
          171.77777777777777,
          186.11111111111111,
          178.55555555555554,
          196.77777777777777,
          189.44444444444446,
          185.66666666666666,
          185.55555555555554,
          197.33333333333331,
          182.55555555555554,
          206,
          204.44444444444446,
          205.77777777777777,
          201.44444444444443,
          207.22222222222223,
          220.44444444444446,
          216.33333333333334,
          194.88888888888889,
          202.33333333333334,
          194.77777777777777,
          189.77777777777777,
          167.11111111111111,
          173.44444444444446,
          164,
          157.66666666666669,
          150,
          132.55555555555554,
          132.66666666666666,
          114.66666666666666,
          102.22222222222223,
          91.44444444444444,
          90.22222222222223,
          77.11111111111111,
          65.22222222222223,
          52.55555555555556,
          44,
          38,
          36.44444444444444,
          28.555555555555557,
          26.88888888888889,
          21.333333333333332,
          14.777777777777777,
          12.555555555555555
         ],
         "yaxis": "y"
        },
        {
         "hovertemplate": "ID=7813<br>Time=%{x}<br>Volume=%{y}<extra></extra>",
         "legendgroup": "7813",
         "line": {
          "color": "#FF97FF",
          "dash": "solid"
         },
         "marker": {
          "symbol": "circle"
         },
         "mode": "lines",
         "name": "7813",
         "showlegend": true,
         "type": "scattergl",
         "x": [
          "00:00:00",
          "00:15:00",
          "00:30:00",
          "00:45:00",
          "01:00:00",
          "01:15:00",
          "01:30:00",
          "01:45:00",
          "02:00:00",
          "02:15:00",
          "02:30:00",
          "02:45:00",
          "03:00:00",
          "03:15:00",
          "03:30:00",
          "03:45:00",
          "04:00:00",
          "04:15:00",
          "04:30:00",
          "04:45:00",
          "05:00:00",
          "05:15:00",
          "05:30:00",
          "05:45:00",
          "06:00:00",
          "06:15:00",
          "06:30:00",
          "06:45:00",
          "07:00:00",
          "07:15:00",
          "07:30:00",
          "07:45:00",
          "08:00:00",
          "08:15:00",
          "08:30:00",
          "08:45:00",
          "09:00:00",
          "09:15:00",
          "09:30:00",
          "09:45:00",
          "10:00:00",
          "10:15:00",
          "10:30:00",
          "10:45:00",
          "11:00:00",
          "11:15:00",
          "11:30:00",
          "11:45:00",
          "12:00:00",
          "12:15:00",
          "12:30:00",
          "12:45:00",
          "13:00:00",
          "13:15:00",
          "13:30:00",
          "13:45:00",
          "14:00:00",
          "14:15:00",
          "14:30:00",
          "14:45:00",
          "15:00:00",
          "15:15:00",
          "15:30:00",
          "15:45:00",
          "16:00:00",
          "16:15:00",
          "16:30:00",
          "16:45:00",
          "17:00:00",
          "17:15:00",
          "17:30:00",
          "17:45:00",
          "18:00:00",
          "18:15:00",
          "18:30:00",
          "18:45:00",
          "19:00:00",
          "19:15:00",
          "19:30:00",
          "19:45:00",
          "20:00:00",
          "20:15:00",
          "20:30:00",
          "20:45:00",
          "21:00:00",
          "21:15:00",
          "21:30:00",
          "21:45:00",
          "22:00:00",
          "22:15:00",
          "22:30:00",
          "22:45:00",
          "23:00:00",
          "23:15:00",
          "23:30:00",
          "23:45:00"
         ],
         "xaxis": "x",
         "y": [
          34.90079365079365,
          33.726190476190474,
          30.883333333333333,
          27.345238095238095,
          26.874999999999996,
          25.638888888888886,
          22.015873015873016,
          22.5,
          29.922222222222224,
          27.22222222222222,
          26.73333333333333,
          30.3968253968254,
          39.358730158730154,
          51.97222222222223,
          52.34722222222223,
          58.36666666666667,
          72.61111111111111,
          99.22222222222223,
          123.25396825396825,
          158.23611111111111,
          211.73333333333332,
          281.1666666666667,
          293.4444444444444,
          317.04166666666663,
          370.5166666666667,
          362.44444444444446,
          363.33333333333337,
          406.8888888888889,
          453.77777777777777,
          458,
          506.5555555555556,
          541.2222222222222,
          537.5555555555555,
          491.22222222222223,
          464.22222222222223,
          455.3333333333333,
          448.44444444444446,
          417.88888888888886,
          388.77777777777777,
          415.44444444444446,
          401.55555555555554,
          419.1111111111111,
          385.66666666666663,
          408.33333333333337,
          421.66666666666663,
          425.33333333333337,
          427.1111111111111,
          463.22222222222223,
          478.66666666666663,
          472.55555555555554,
          448.11111111111114,
          490.2222222222223,
          462.55555555555554,
          456.8888888888889,
          437.7777777777778,
          468.55555555555554,
          452,
          476.77777777777777,
          496,
          518.8888888888889,
          533.1111111111111,
          539.3333333333333,
          540.4444444444445,
          572.3333333333334,
          588.4444444444445,
          584.8888888888889,
          571,
          592.4444444444445,
          603,
          606.5555555555555,
          549.5555555555555,
          565.2222222222222,
          516.4444444444445,
          534.4444444444445,
          508.1111111111111,
          491.55555555555554,
          444.66666666666663,
          422.22222222222223,
          380.44444444444446,
          363.77777777777777,
          356.77777777777777,
          328.1111111111111,
          282.55555555555554,
          263.1111111111111,
          243.33333333333331,
          215.88888888888886,
          177.88888888888889,
          159.44444444444446,
          134.11111111111111,
          114.66666666666667,
          93.15873015873015,
          79.44444444444446,
          74.19444444444446,
          65.44444444444444,
          50.599206349206355,
          47.60952380952381
         ],
         "yaxis": "y"
        },
        {
         "hovertemplate": "ID=7814<br>Time=%{x}<br>Volume=%{y}<extra></extra>",
         "legendgroup": "7814",
         "line": {
          "color": "#FECB52",
          "dash": "solid"
         },
         "marker": {
          "symbol": "circle"
         },
         "mode": "lines",
         "name": "7814",
         "showlegend": true,
         "type": "scattergl",
         "x": [
          "00:00:00",
          "00:15:00",
          "00:30:00",
          "00:45:00",
          "01:00:00",
          "01:15:00",
          "01:30:00",
          "01:45:00",
          "02:00:00",
          "02:15:00",
          "02:30:00",
          "02:45:00",
          "03:00:00",
          "03:15:00",
          "03:30:00",
          "03:45:00",
          "04:00:00",
          "04:15:00",
          "04:30:00",
          "04:45:00",
          "05:00:00",
          "05:15:00",
          "05:30:00",
          "05:45:00",
          "06:00:00",
          "06:15:00",
          "06:30:00",
          "06:45:00",
          "07:00:00",
          "07:15:00",
          "07:30:00",
          "07:45:00",
          "08:00:00",
          "08:15:00",
          "08:30:00",
          "08:45:00",
          "09:00:00",
          "09:15:00",
          "09:30:00",
          "09:45:00",
          "10:00:00",
          "10:15:00",
          "10:30:00",
          "10:45:00",
          "11:00:00",
          "11:15:00",
          "11:30:00",
          "11:45:00",
          "12:00:00",
          "12:15:00",
          "12:30:00",
          "12:45:00",
          "13:00:00",
          "13:15:00",
          "13:30:00",
          "13:45:00",
          "14:00:00",
          "14:15:00",
          "14:30:00",
          "14:45:00",
          "15:00:00",
          "15:15:00",
          "15:30:00",
          "15:45:00",
          "16:00:00",
          "16:15:00",
          "16:30:00",
          "16:45:00",
          "17:00:00",
          "17:15:00",
          "17:30:00",
          "17:45:00",
          "18:00:00",
          "18:15:00",
          "18:30:00",
          "18:45:00",
          "19:00:00",
          "19:15:00",
          "19:30:00",
          "19:45:00",
          "20:00:00",
          "20:15:00",
          "20:30:00",
          "20:45:00",
          "21:00:00",
          "21:15:00",
          "21:30:00",
          "21:45:00",
          "22:00:00",
          "22:15:00",
          "22:30:00",
          "22:45:00",
          "23:00:00",
          "23:15:00",
          "23:30:00",
          "23:45:00"
         ],
         "xaxis": "x",
         "y": [
          54,
          49.09722222222223,
          51.561507936507944,
          41.93333333333334,
          40.91468253968254,
          34.55555555555556,
          28.875,
          27.289285714285715,
          41.47222222222223,
          37.263888888888886,
          27.888888888888886,
          33.16666666666667,
          38.91666666666667,
          49.460317460317455,
          44.66666666666667,
          55.361111111111114,
          62.16865079365079,
          84.56944444444446,
          116.58333333333331,
          132.55555555555554,
          179.83333333333331,
          239.88888888888889,
          256.44444444444446,
          292.22222222222223,
          298.8888888888889,
          315.77777777777777,
          289.6666666666667,
          379.55555555555554,
          367.66666666666663,
          422.1111111111111,
          427.11111111111114,
          534.4444444444445,
          487.1111111111111,
          511.8888888888889,
          447.33333333333337,
          511.33333333333337,
          435.1111111111111,
          442,
          433.77777777777777,
          449.66666666666663,
          466,
          484.8888888888889,
          447.1111111111111,
          501.22222222222223,
          493.2222222222222,
          520.3333333333333,
          511,
          560.6666666666667,
          534.5555555555555,
          541.5555555555557,
          514.7777777777778,
          562.5555555555555,
          534.2222222222222,
          534.5555555555557,
          520.2222222222222,
          538.6666666666666,
          526.6666666666666,
          552.3333333333334,
          536.1111111111111,
          587.5555555555555,
          580.4444444444445,
          600,
          562.1111111111111,
          605.6666666666666,
          596.7777777777778,
          595.6666666666667,
          595.6666666666666,
          599.2222222222222,
          625.3333333333334,
          612.5555555555555,
          626.1111111111111,
          620.7777777777778,
          605.8888888888889,
          610.3333333333334,
          557.1111111111111,
          531.5555555555555,
          503.77777777777777,
          499.1111111111111,
          478.33333333333337,
          445.44444444444446,
          451.7777777777778,
          409.77777777777777,
          379.8888888888889,
          347.55555555555554,
          323.66666666666663,
          284.7916666666667,
          234.66666666666669,
          215.77777777777777,
          192.77777777777777,
          161.33333333333331,
          139.66666666666669,
          128.77777777777777,
          122.44444444444443,
          93.66666666666666,
          75.77777777777779,
          66.33333333333334
         ],
         "yaxis": "y"
        },
        {
         "hovertemplate": "ID=7815<br>Time=%{x}<br>Volume=%{y}<extra></extra>",
         "legendgroup": "7815",
         "line": {
          "color": "#636efa",
          "dash": "solid"
         },
         "marker": {
          "symbol": "circle"
         },
         "mode": "lines",
         "name": "7815",
         "showlegend": true,
         "type": "scattergl",
         "x": [
          "00:00:00",
          "00:15:00",
          "00:30:00",
          "00:45:00",
          "01:00:00",
          "01:15:00",
          "01:30:00",
          "01:45:00",
          "02:00:00",
          "02:15:00",
          "02:30:00",
          "02:45:00",
          "03:00:00",
          "03:15:00",
          "03:30:00",
          "03:45:00",
          "04:00:00",
          "04:15:00",
          "04:30:00",
          "04:45:00",
          "05:00:00",
          "05:15:00",
          "05:30:00",
          "05:45:00",
          "06:00:00",
          "06:15:00",
          "06:30:00",
          "06:45:00",
          "07:00:00",
          "07:15:00",
          "07:30:00",
          "07:45:00",
          "08:00:00",
          "08:15:00",
          "08:30:00",
          "08:45:00",
          "09:00:00",
          "09:15:00",
          "09:30:00",
          "09:45:00",
          "10:00:00",
          "10:15:00",
          "10:30:00",
          "10:45:00",
          "11:00:00",
          "11:15:00",
          "11:30:00",
          "11:45:00",
          "12:00:00",
          "12:15:00",
          "12:30:00",
          "12:45:00",
          "13:00:00",
          "13:15:00",
          "13:30:00",
          "13:45:00",
          "14:00:00",
          "14:15:00",
          "14:30:00",
          "14:45:00",
          "15:00:00",
          "15:15:00",
          "15:30:00",
          "15:45:00",
          "16:00:00",
          "16:15:00",
          "16:30:00",
          "16:45:00",
          "17:00:00",
          "17:15:00",
          "17:30:00",
          "17:45:00",
          "18:00:00",
          "18:15:00",
          "18:30:00",
          "18:45:00",
          "19:00:00",
          "19:15:00",
          "19:30:00",
          "19:45:00",
          "20:00:00",
          "20:15:00",
          "20:30:00",
          "20:45:00",
          "21:00:00",
          "21:15:00",
          "21:30:00",
          "21:45:00",
          "22:00:00",
          "22:15:00",
          "22:30:00",
          "22:45:00",
          "23:00:00",
          "23:15:00",
          "23:30:00",
          "23:45:00"
         ],
         "xaxis": "x",
         "y": [
          45.861111111111114,
          38.02777777777778,
          40.833333333333336,
          33.111111111111114,
          30.555555555555554,
          26.333333333333336,
          25,
          23.666666666666664,
          27.5,
          28.11111111111111,
          21.458333333333332,
          26.5,
          32.888888888888886,
          39.666666666666664,
          38.333333333333336,
          45.5,
          54.416666666666664,
          75,
          87.77777777777777,
          117.22222222222223,
          169.22222222222223,
          201.90873015873018,
          233.21428571428572,
          272.22222222222223,
          318.2936507936508,
          280.8888888888889,
          288.41269841269843,
          343.47222222222223,
          372.33333333333337,
          378.3333333333333,
          453.47023809523813,
          502.7777777777777,
          498.5555555555556,
          453.6666666666667,
          467,
          462.66666666666663,
          447.22222222222223,
          413.1111111111111,
          411.44444444444446,
          453.6666666666667,
          452,
          462.30555555555554,
          430.33333333333337,
          469.66666666666663,
          482.7777777777778,
          487.66666666666663,
          519.4444444444445,
          568.6666666666666,
          565.7777777777778,
          532.3333333333334,
          525.8888888888889,
          566.4444444444446,
          557.1111111111111,
          509.6666666666667,
          504.1111111111111,
          507.55555555555554,
          511.77777777777777,
          532.6666666666667,
          550.3333333333334,
          597.1111111111111,
          617.2222222222223,
          587.6666666666667,
          586,
          637.1111111111111,
          633.4444444444445,
          617.6666666666666,
          628.1111111111111,
          651.8888888888889,
          690.1111111111111,
          654.5555555555557,
          623.5555555555555,
          608.7777777777778,
          606.4444444444445,
          587.1111111111111,
          575,
          553,
          499.22222222222223,
          465.44444444444446,
          436.3333333333333,
          415.33333333333337,
          431.6666666666667,
          380.77777777777777,
          349.33333333333337,
          300.8888888888889,
          281.44444444444446,
          243.33333333333331,
          209.44444444444446,
          183.44444444444446,
          165.65079365079364,
          137.93055555555554,
          114.41111111111111,
          106.93333333333334,
          99.03611111111111,
          74.33333333333333,
          63.24444444444445,
          56.699999999999996
         ],
         "yaxis": "y"
        },
        {
         "hovertemplate": "ID=7816<br>Time=%{x}<br>Volume=%{y}<extra></extra>",
         "legendgroup": "7816",
         "line": {
          "color": "#EF553B",
          "dash": "solid"
         },
         "marker": {
          "symbol": "circle"
         },
         "mode": "lines",
         "name": "7816",
         "showlegend": true,
         "type": "scattergl",
         "x": [
          "00:00:00",
          "00:15:00",
          "00:30:00",
          "00:45:00",
          "01:00:00",
          "01:15:00",
          "01:30:00",
          "01:45:00",
          "02:00:00",
          "02:15:00",
          "02:30:00",
          "02:45:00",
          "03:00:00",
          "03:15:00",
          "03:30:00",
          "03:45:00",
          "04:00:00",
          "04:15:00",
          "04:30:00",
          "04:45:00",
          "05:00:00",
          "05:15:00",
          "05:30:00",
          "05:45:00",
          "06:00:00",
          "06:15:00",
          "06:30:00",
          "06:45:00",
          "07:00:00",
          "07:15:00",
          "07:30:00",
          "07:45:00",
          "08:00:00",
          "08:15:00",
          "08:30:00",
          "08:45:00",
          "09:00:00",
          "09:15:00",
          "09:30:00",
          "09:45:00",
          "10:00:00",
          "10:15:00",
          "10:30:00",
          "10:45:00",
          "11:00:00",
          "11:15:00",
          "11:30:00",
          "11:45:00",
          "12:00:00",
          "12:15:00",
          "12:30:00",
          "12:45:00",
          "13:00:00",
          "13:15:00",
          "13:30:00",
          "13:45:00",
          "14:00:00",
          "14:15:00",
          "14:30:00",
          "14:45:00",
          "15:00:00",
          "15:15:00",
          "15:30:00",
          "15:45:00",
          "16:00:00",
          "16:15:00",
          "16:30:00",
          "16:45:00",
          "17:00:00",
          "17:15:00",
          "17:30:00",
          "17:45:00",
          "18:00:00",
          "18:15:00",
          "18:30:00",
          "18:45:00",
          "19:00:00",
          "19:15:00",
          "19:30:00",
          "19:45:00",
          "20:00:00",
          "20:15:00",
          "20:30:00",
          "20:45:00",
          "21:00:00",
          "21:15:00",
          "21:30:00",
          "21:45:00",
          "22:00:00",
          "22:15:00",
          "22:30:00",
          "22:45:00",
          "23:00:00",
          "23:15:00",
          "23:30:00",
          "23:45:00"
         ],
         "xaxis": "x",
         "y": [
          38.77777777777778,
          34,
          33.742063492063494,
          30.40277777777778,
          24.202380952380953,
          21.128968253968253,
          21.36111111111111,
          22.977777777777778,
          23.349206349206348,
          21.133333333333333,
          19.46031746031746,
          24,
          25.98611111111111,
          34.18611111111111,
          32.44444444444444,
          41.125,
          44,
          68.77777777777779,
          71.88888888888889,
          104.53968253968254,
          140.33333333333331,
          175.76388888888889,
          205.36111111111111,
          247.22222222222223,
          281.77777777777777,
          254.16666666666666,
          246.83333333333334,
          316.73333333333335,
          314.02222222222224,
          348.55555555555554,
          423.05555555555554,
          485.44444444444446,
          449.5555555555556,
          418.44444444444446,
          389.2083333333333,
          424.6666666666667,
          377.44444444444446,
          350.17460317460313,
          352.38095238095235,
          394.55555555555554,
          388.43055555555554,
          403.88888888888886,
          369.31944444444446,
          400.8888888888889,
          415.8888888888889,
          418.33333333333337,
          445.77777777777777,
          482.5555555555556,
          482,
          454,
          438.44444444444446,
          469.1111111111111,
          485.6666666666667,
          424.55555555555554,
          428.6666666666667,
          425,
          432.6666666666667,
          460.1111111111111,
          477.22222222222223,
          520.5555555555557,
          559.4444444444443,
          506.44444444444446,
          493.7777777777778,
          549.7777777777778,
          526.5555555555555,
          539.6666666666667,
          532.4444444444445,
          575,
          603.375,
          568.3333333333333,
          527.5555555555557,
          544.7777777777778,
          524.3333333333333,
          512.6666666666667,
          484.33333333333337,
          456.25,
          425.55555555555554,
          394.66666666666663,
          380.0138888888889,
          359.46031746031747,
          371.11111111111114,
          326.55555555555554,
          307.6190476190476,
          264.3611111111111,
          243.55555555555554,
          219.625,
          177.72222222222223,
          163.84722222222223,
          136.5,
          122.61904761904762,
          99.37777777777778,
          97.5,
          86.25,
          66.15277777777777,
          54.19444444444444,
          49.94444444444444
         ],
         "yaxis": "y"
        },
        {
         "hovertemplate": "ID=7818<br>Time=%{x}<br>Volume=%{y}<extra></extra>",
         "legendgroup": "7818",
         "line": {
          "color": "#00cc96",
          "dash": "solid"
         },
         "marker": {
          "symbol": "circle"
         },
         "mode": "lines",
         "name": "7818",
         "showlegend": true,
         "type": "scattergl",
         "x": [
          "00:00:00",
          "00:15:00",
          "00:30:00",
          "00:45:00",
          "01:00:00",
          "01:15:00",
          "01:30:00",
          "01:45:00",
          "02:00:00",
          "02:15:00",
          "02:30:00",
          "02:45:00",
          "03:00:00",
          "03:15:00",
          "03:30:00",
          "03:45:00",
          "04:00:00",
          "04:15:00",
          "04:30:00",
          "04:45:00",
          "05:00:00",
          "05:15:00",
          "05:30:00",
          "05:45:00",
          "06:00:00",
          "06:15:00",
          "06:30:00",
          "06:45:00",
          "07:00:00",
          "07:15:00",
          "07:30:00",
          "07:45:00",
          "08:00:00",
          "08:15:00",
          "08:30:00",
          "08:45:00",
          "09:00:00",
          "09:15:00",
          "09:30:00",
          "09:45:00",
          "10:00:00",
          "10:15:00",
          "10:30:00",
          "10:45:00",
          "11:00:00",
          "11:15:00",
          "11:30:00",
          "11:45:00",
          "12:00:00",
          "12:15:00",
          "12:30:00",
          "12:45:00",
          "13:00:00",
          "13:15:00",
          "13:30:00",
          "13:45:00",
          "14:00:00",
          "14:15:00",
          "14:30:00",
          "14:45:00",
          "15:00:00",
          "15:15:00",
          "15:30:00",
          "15:45:00",
          "16:00:00",
          "16:15:00",
          "16:30:00",
          "16:45:00",
          "17:00:00",
          "17:15:00",
          "17:30:00",
          "17:45:00",
          "18:00:00",
          "18:15:00",
          "18:30:00",
          "18:45:00",
          "19:00:00",
          "19:15:00",
          "19:30:00",
          "19:45:00",
          "20:00:00",
          "20:15:00",
          "20:30:00",
          "20:45:00",
          "21:00:00",
          "21:15:00",
          "21:30:00",
          "21:45:00",
          "22:00:00",
          "22:15:00",
          "22:30:00",
          "22:45:00",
          "23:00:00",
          "23:15:00",
          "23:30:00",
          "23:45:00"
         ],
         "xaxis": "x",
         "y": [
          34.022222222222226,
          29.833333333333336,
          30.763888888888893,
          30,
          22.894444444444446,
          19.166666666666664,
          18.733333333333334,
          21.38611111111111,
          22.866666666666667,
          20.083333333333336,
          16.069444444444443,
          22.71111111111111,
          24.083333333333336,
          31.23611111111111,
          29.111111111111107,
          35.49444444444445,
          43.888888888888886,
          67.02777777777777,
          73.28571428571429,
          104.72222222222223,
          120.79999999999998,
          173.22222222222223,
          181.79166666666669,
          253.34920634920633,
          252.22777777777776,
          234,
          205.69444444444446,
          281.9583333333333,
          259.44444444444446,
          331.74603174603175,
          376.43055555555554,
          448.22222222222223,
          400.55555555555554,
          401.1111111111111,
          336.55555555555554,
          410.44444444444446,
          319.1428571428571,
          337.44444444444446,
          297.1111111111111,
          363.1111111111111,
          326.02777777777777,
          358.6666666666667,
          314.1111111111111,
          373.7777777777778,
          346.7777777777778,
          389.77777777777777,
          382.33333333333337,
          460.22222222222223,
          400.44444444444446,
          419.33333333333337,
          390.66666666666663,
          452.22222222222223,
          413.44444444444446,
          411.11111111111114,
          369.2222222222222,
          409.1111111111111,
          373.7777777777778,
          434,
          413.7777777777778,
          500.3333333333333,
          479.33333333333337,
          473,
          464.22222222222223,
          506.7777777777777,
          469,
          494.44444444444446,
          488.6666666666667,
          525.4444444444445,
          548,
          503.23611111111114,
          475.8888888888889,
          487,
          452.1111111111111,
          453.66666666666663,
          425.6666666666667,
          440.33333333333337,
          362.33333333333326,
          364.55555555555554,
          322.2222222222223,
          328.1111111111111,
          316.1111111111111,
          293.55555555555554,
          251.22222222222223,
          237.88888888888889,
          208.1904761904762,
          188.41666666666669,
          149.625,
          139.125,
          124.94444444444444,
          109.09722222222223,
          87.33333333333334,
          78.63492063492063,
          70.95555555555556,
          60.593253968253975,
          45.083333333333336,
          45.5
         ],
         "yaxis": "y"
        },
        {
         "hovertemplate": "ID=7819<br>Time=%{x}<br>Volume=%{y}<extra></extra>",
         "legendgroup": "7819",
         "line": {
          "color": "#ab63fa",
          "dash": "solid"
         },
         "marker": {
          "symbol": "circle"
         },
         "mode": "lines",
         "name": "7819",
         "showlegend": true,
         "type": "scattergl",
         "x": [
          "00:00:00",
          "00:15:00",
          "00:30:00",
          "00:45:00",
          "01:00:00",
          "01:15:00",
          "01:30:00",
          "01:45:00",
          "02:00:00",
          "02:15:00",
          "02:30:00",
          "02:45:00",
          "03:00:00",
          "03:15:00",
          "03:30:00",
          "03:45:00",
          "04:00:00",
          "04:15:00",
          "04:30:00",
          "04:45:00",
          "05:00:00",
          "05:15:00",
          "05:30:00",
          "05:45:00",
          "06:00:00",
          "06:15:00",
          "06:30:00",
          "06:45:00",
          "07:00:00",
          "07:15:00",
          "07:30:00",
          "07:45:00",
          "08:00:00",
          "08:15:00",
          "08:30:00",
          "08:45:00",
          "09:00:00",
          "09:15:00",
          "09:30:00",
          "09:45:00",
          "10:00:00",
          "10:15:00",
          "10:30:00",
          "10:45:00",
          "11:00:00",
          "11:15:00",
          "11:30:00",
          "11:45:00",
          "12:00:00",
          "12:15:00",
          "12:30:00",
          "12:45:00",
          "13:00:00",
          "13:15:00",
          "13:30:00",
          "13:45:00",
          "14:00:00",
          "14:15:00",
          "14:30:00",
          "14:45:00",
          "15:00:00",
          "15:15:00",
          "15:30:00",
          "15:45:00",
          "16:00:00",
          "16:15:00",
          "16:30:00",
          "16:45:00",
          "17:00:00",
          "17:15:00",
          "17:30:00",
          "17:45:00",
          "18:00:00",
          "18:15:00",
          "18:30:00",
          "18:45:00",
          "19:00:00",
          "19:15:00",
          "19:30:00",
          "19:45:00",
          "20:00:00",
          "20:15:00",
          "20:30:00",
          "20:45:00",
          "21:00:00",
          "21:15:00",
          "21:30:00",
          "21:45:00",
          "22:00:00",
          "22:15:00",
          "22:30:00",
          "22:45:00",
          "23:00:00",
          "23:15:00",
          "23:30:00",
          "23:45:00"
         ],
         "xaxis": "x",
         "y": [
          28.211111111111112,
          28.32142857142857,
          28.861111111111114,
          22.138888888888886,
          21.33888888888889,
          17.263888888888886,
          16.77777777777778,
          18.416666666666664,
          18.016666666666666,
          17.09722222222222,
          14.666666666666668,
          19.80952380952381,
          20.013888888888886,
          29.063095238095237,
          24.77777777777778,
          31.616666666666664,
          37.367063492063494,
          54.22222222222223,
          60.33333333333333,
          88,
          107.34920634920634,
          144.44444444444443,
          157.98611111111111,
          225.77777777777777,
          231.11111111111111,
          211.98611111111111,
          194.55555555555557,
          252.55555555555554,
          235.22222222222223,
          283.44444444444446,
          321.6666666666667,
          358.2222222222223,
          336.33333333333337,
          338.55555555555554,
          315.4861111111111,
          350.6666666666667,
          283.22222222222223,
          270,
          271.2222222222222,
          311.8888888888889,
          289.8888888888889,
          285.88888888888886,
          285.2222222222222,
          318.1111111111111,
          307.44444444444446,
          325.65277777777777,
          332.66666666666663,
          379.1111111111111,
          365.55555555555554,
          359.2222222222222,
          341.33333333333337,
          380.11111111111114,
          367.55555555555554,
          337.44444444444446,
          320.8888888888889,
          350.33333333333337,
          322.22222222222223,
          346.3333333333333,
          348.44444444444446,
          418.88888888888886,
          417,
          426.2222222222222,
          411.55555555555554,
          449.7777777777777,
          429.44444444444446,
          447.77777777777777,
          449.55555555555554,
          466.22222222222223,
          492.7777777777778,
          438.33333333333337,
          430.33333333333337,
          429.8888888888889,
          415.44444444444446,
          394.55555555555554,
          381.33333333333337,
          367.1111111111111,
          328.1111111111111,
          312.8888888888889,
          278.2222222222222,
          264.70833333333337,
          263.2222222222222,
          248.44444444444446,
          210,
          201.8888888888889,
          180.40277777777777,
          165.92063492063494,
          129.75,
          117.92063492063494,
          107.75555555555555,
          95.51388888888889,
          74.11111111111111,
          66.22222222222223,
          59.77777777777778,
          55,
          37.05555555555556,
          39.486111111111114
         ],
         "yaxis": "y"
        }
       ],
       "layout": {
        "legend": {
         "title": {
          "text": "ID"
         },
         "tracegroupgap": 0
        },
        "template": {
         "data": {
          "bar": [
           {
            "error_x": {
             "color": "#2a3f5f"
            },
            "error_y": {
             "color": "#2a3f5f"
            },
            "marker": {
             "line": {
              "color": "#E5ECF6",
              "width": 0.5
             },
             "pattern": {
              "fillmode": "overlay",
              "size": 10,
              "solidity": 0.2
             }
            },
            "type": "bar"
           }
          ],
          "barpolar": [
           {
            "marker": {
             "line": {
              "color": "#E5ECF6",
              "width": 0.5
             },
             "pattern": {
              "fillmode": "overlay",
              "size": 10,
              "solidity": 0.2
             }
            },
            "type": "barpolar"
           }
          ],
          "carpet": [
           {
            "aaxis": {
             "endlinecolor": "#2a3f5f",
             "gridcolor": "white",
             "linecolor": "white",
             "minorgridcolor": "white",
             "startlinecolor": "#2a3f5f"
            },
            "baxis": {
             "endlinecolor": "#2a3f5f",
             "gridcolor": "white",
             "linecolor": "white",
             "minorgridcolor": "white",
             "startlinecolor": "#2a3f5f"
            },
            "type": "carpet"
           }
          ],
          "choropleth": [
           {
            "colorbar": {
             "outlinewidth": 0,
             "ticks": ""
            },
            "type": "choropleth"
           }
          ],
          "contour": [
           {
            "colorbar": {
             "outlinewidth": 0,
             "ticks": ""
            },
            "colorscale": [
             [
              0,
              "#0d0887"
             ],
             [
              0.1111111111111111,
              "#46039f"
             ],
             [
              0.2222222222222222,
              "#7201a8"
             ],
             [
              0.3333333333333333,
              "#9c179e"
             ],
             [
              0.4444444444444444,
              "#bd3786"
             ],
             [
              0.5555555555555556,
              "#d8576b"
             ],
             [
              0.6666666666666666,
              "#ed7953"
             ],
             [
              0.7777777777777778,
              "#fb9f3a"
             ],
             [
              0.8888888888888888,
              "#fdca26"
             ],
             [
              1,
              "#f0f921"
             ]
            ],
            "type": "contour"
           }
          ],
          "contourcarpet": [
           {
            "colorbar": {
             "outlinewidth": 0,
             "ticks": ""
            },
            "type": "contourcarpet"
           }
          ],
          "heatmap": [
           {
            "colorbar": {
             "outlinewidth": 0,
             "ticks": ""
            },
            "colorscale": [
             [
              0,
              "#0d0887"
             ],
             [
              0.1111111111111111,
              "#46039f"
             ],
             [
              0.2222222222222222,
              "#7201a8"
             ],
             [
              0.3333333333333333,
              "#9c179e"
             ],
             [
              0.4444444444444444,
              "#bd3786"
             ],
             [
              0.5555555555555556,
              "#d8576b"
             ],
             [
              0.6666666666666666,
              "#ed7953"
             ],
             [
              0.7777777777777778,
              "#fb9f3a"
             ],
             [
              0.8888888888888888,
              "#fdca26"
             ],
             [
              1,
              "#f0f921"
             ]
            ],
            "type": "heatmap"
           }
          ],
          "heatmapgl": [
           {
            "colorbar": {
             "outlinewidth": 0,
             "ticks": ""
            },
            "colorscale": [
             [
              0,
              "#0d0887"
             ],
             [
              0.1111111111111111,
              "#46039f"
             ],
             [
              0.2222222222222222,
              "#7201a8"
             ],
             [
              0.3333333333333333,
              "#9c179e"
             ],
             [
              0.4444444444444444,
              "#bd3786"
             ],
             [
              0.5555555555555556,
              "#d8576b"
             ],
             [
              0.6666666666666666,
              "#ed7953"
             ],
             [
              0.7777777777777778,
              "#fb9f3a"
             ],
             [
              0.8888888888888888,
              "#fdca26"
             ],
             [
              1,
              "#f0f921"
             ]
            ],
            "type": "heatmapgl"
           }
          ],
          "histogram": [
           {
            "marker": {
             "pattern": {
              "fillmode": "overlay",
              "size": 10,
              "solidity": 0.2
             }
            },
            "type": "histogram"
           }
          ],
          "histogram2d": [
           {
            "colorbar": {
             "outlinewidth": 0,
             "ticks": ""
            },
            "colorscale": [
             [
              0,
              "#0d0887"
             ],
             [
              0.1111111111111111,
              "#46039f"
             ],
             [
              0.2222222222222222,
              "#7201a8"
             ],
             [
              0.3333333333333333,
              "#9c179e"
             ],
             [
              0.4444444444444444,
              "#bd3786"
             ],
             [
              0.5555555555555556,
              "#d8576b"
             ],
             [
              0.6666666666666666,
              "#ed7953"
             ],
             [
              0.7777777777777778,
              "#fb9f3a"
             ],
             [
              0.8888888888888888,
              "#fdca26"
             ],
             [
              1,
              "#f0f921"
             ]
            ],
            "type": "histogram2d"
           }
          ],
          "histogram2dcontour": [
           {
            "colorbar": {
             "outlinewidth": 0,
             "ticks": ""
            },
            "colorscale": [
             [
              0,
              "#0d0887"
             ],
             [
              0.1111111111111111,
              "#46039f"
             ],
             [
              0.2222222222222222,
              "#7201a8"
             ],
             [
              0.3333333333333333,
              "#9c179e"
             ],
             [
              0.4444444444444444,
              "#bd3786"
             ],
             [
              0.5555555555555556,
              "#d8576b"
             ],
             [
              0.6666666666666666,
              "#ed7953"
             ],
             [
              0.7777777777777778,
              "#fb9f3a"
             ],
             [
              0.8888888888888888,
              "#fdca26"
             ],
             [
              1,
              "#f0f921"
             ]
            ],
            "type": "histogram2dcontour"
           }
          ],
          "mesh3d": [
           {
            "colorbar": {
             "outlinewidth": 0,
             "ticks": ""
            },
            "type": "mesh3d"
           }
          ],
          "parcoords": [
           {
            "line": {
             "colorbar": {
              "outlinewidth": 0,
              "ticks": ""
             }
            },
            "type": "parcoords"
           }
          ],
          "pie": [
           {
            "automargin": true,
            "type": "pie"
           }
          ],
          "scatter": [
           {
            "fillpattern": {
             "fillmode": "overlay",
             "size": 10,
             "solidity": 0.2
            },
            "type": "scatter"
           }
          ],
          "scatter3d": [
           {
            "line": {
             "colorbar": {
              "outlinewidth": 0,
              "ticks": ""
             }
            },
            "marker": {
             "colorbar": {
              "outlinewidth": 0,
              "ticks": ""
             }
            },
            "type": "scatter3d"
           }
          ],
          "scattercarpet": [
           {
            "marker": {
             "colorbar": {
              "outlinewidth": 0,
              "ticks": ""
             }
            },
            "type": "scattercarpet"
           }
          ],
          "scattergeo": [
           {
            "marker": {
             "colorbar": {
              "outlinewidth": 0,
              "ticks": ""
             }
            },
            "type": "scattergeo"
           }
          ],
          "scattergl": [
           {
            "marker": {
             "colorbar": {
              "outlinewidth": 0,
              "ticks": ""
             }
            },
            "type": "scattergl"
           }
          ],
          "scattermapbox": [
           {
            "marker": {
             "colorbar": {
              "outlinewidth": 0,
              "ticks": ""
             }
            },
            "type": "scattermapbox"
           }
          ],
          "scatterpolar": [
           {
            "marker": {
             "colorbar": {
              "outlinewidth": 0,
              "ticks": ""
             }
            },
            "type": "scatterpolar"
           }
          ],
          "scatterpolargl": [
           {
            "marker": {
             "colorbar": {
              "outlinewidth": 0,
              "ticks": ""
             }
            },
            "type": "scatterpolargl"
           }
          ],
          "scatterternary": [
           {
            "marker": {
             "colorbar": {
              "outlinewidth": 0,
              "ticks": ""
             }
            },
            "type": "scatterternary"
           }
          ],
          "surface": [
           {
            "colorbar": {
             "outlinewidth": 0,
             "ticks": ""
            },
            "colorscale": [
             [
              0,
              "#0d0887"
             ],
             [
              0.1111111111111111,
              "#46039f"
             ],
             [
              0.2222222222222222,
              "#7201a8"
             ],
             [
              0.3333333333333333,
              "#9c179e"
             ],
             [
              0.4444444444444444,
              "#bd3786"
             ],
             [
              0.5555555555555556,
              "#d8576b"
             ],
             [
              0.6666666666666666,
              "#ed7953"
             ],
             [
              0.7777777777777778,
              "#fb9f3a"
             ],
             [
              0.8888888888888888,
              "#fdca26"
             ],
             [
              1,
              "#f0f921"
             ]
            ],
            "type": "surface"
           }
          ],
          "table": [
           {
            "cells": {
             "fill": {
              "color": "#EBF0F8"
             },
             "line": {
              "color": "white"
             }
            },
            "header": {
             "fill": {
              "color": "#C8D4E3"
             },
             "line": {
              "color": "white"
             }
            },
            "type": "table"
           }
          ]
         },
         "layout": {
          "annotationdefaults": {
           "arrowcolor": "#2a3f5f",
           "arrowhead": 0,
           "arrowwidth": 1
          },
          "autotypenumbers": "strict",
          "coloraxis": {
           "colorbar": {
            "outlinewidth": 0,
            "ticks": ""
           }
          },
          "colorscale": {
           "diverging": [
            [
             0,
             "#8e0152"
            ],
            [
             0.1,
             "#c51b7d"
            ],
            [
             0.2,
             "#de77ae"
            ],
            [
             0.3,
             "#f1b6da"
            ],
            [
             0.4,
             "#fde0ef"
            ],
            [
             0.5,
             "#f7f7f7"
            ],
            [
             0.6,
             "#e6f5d0"
            ],
            [
             0.7,
             "#b8e186"
            ],
            [
             0.8,
             "#7fbc41"
            ],
            [
             0.9,
             "#4d9221"
            ],
            [
             1,
             "#276419"
            ]
           ],
           "sequential": [
            [
             0,
             "#0d0887"
            ],
            [
             0.1111111111111111,
             "#46039f"
            ],
            [
             0.2222222222222222,
             "#7201a8"
            ],
            [
             0.3333333333333333,
             "#9c179e"
            ],
            [
             0.4444444444444444,
             "#bd3786"
            ],
            [
             0.5555555555555556,
             "#d8576b"
            ],
            [
             0.6666666666666666,
             "#ed7953"
            ],
            [
             0.7777777777777778,
             "#fb9f3a"
            ],
            [
             0.8888888888888888,
             "#fdca26"
            ],
            [
             1,
             "#f0f921"
            ]
           ],
           "sequentialminus": [
            [
             0,
             "#0d0887"
            ],
            [
             0.1111111111111111,
             "#46039f"
            ],
            [
             0.2222222222222222,
             "#7201a8"
            ],
            [
             0.3333333333333333,
             "#9c179e"
            ],
            [
             0.4444444444444444,
             "#bd3786"
            ],
            [
             0.5555555555555556,
             "#d8576b"
            ],
            [
             0.6666666666666666,
             "#ed7953"
            ],
            [
             0.7777777777777778,
             "#fb9f3a"
            ],
            [
             0.8888888888888888,
             "#fdca26"
            ],
            [
             1,
             "#f0f921"
            ]
           ]
          },
          "colorway": [
           "#636efa",
           "#EF553B",
           "#00cc96",
           "#ab63fa",
           "#FFA15A",
           "#19d3f3",
           "#FF6692",
           "#B6E880",
           "#FF97FF",
           "#FECB52"
          ],
          "font": {
           "color": "#2a3f5f"
          },
          "geo": {
           "bgcolor": "white",
           "lakecolor": "white",
           "landcolor": "#E5ECF6",
           "showlakes": true,
           "showland": true,
           "subunitcolor": "white"
          },
          "hoverlabel": {
           "align": "left"
          },
          "hovermode": "closest",
          "mapbox": {
           "style": "light"
          },
          "paper_bgcolor": "white",
          "plot_bgcolor": "#E5ECF6",
          "polar": {
           "angularaxis": {
            "gridcolor": "white",
            "linecolor": "white",
            "ticks": ""
           },
           "bgcolor": "#E5ECF6",
           "radialaxis": {
            "gridcolor": "white",
            "linecolor": "white",
            "ticks": ""
           }
          },
          "scene": {
           "xaxis": {
            "backgroundcolor": "#E5ECF6",
            "gridcolor": "white",
            "gridwidth": 2,
            "linecolor": "white",
            "showbackground": true,
            "ticks": "",
            "zerolinecolor": "white"
           },
           "yaxis": {
            "backgroundcolor": "#E5ECF6",
            "gridcolor": "white",
            "gridwidth": 2,
            "linecolor": "white",
            "showbackground": true,
            "ticks": "",
            "zerolinecolor": "white"
           },
           "zaxis": {
            "backgroundcolor": "#E5ECF6",
            "gridcolor": "white",
            "gridwidth": 2,
            "linecolor": "white",
            "showbackground": true,
            "ticks": "",
            "zerolinecolor": "white"
           }
          },
          "shapedefaults": {
           "line": {
            "color": "#2a3f5f"
           }
          },
          "ternary": {
           "aaxis": {
            "gridcolor": "white",
            "linecolor": "white",
            "ticks": ""
           },
           "baxis": {
            "gridcolor": "white",
            "linecolor": "white",
            "ticks": ""
           },
           "bgcolor": "#E5ECF6",
           "caxis": {
            "gridcolor": "white",
            "linecolor": "white",
            "ticks": ""
           }
          },
          "title": {
           "x": 0.05
          },
          "xaxis": {
           "automargin": true,
           "gridcolor": "white",
           "linecolor": "white",
           "ticks": "",
           "title": {
            "standoff": 15
           },
           "zerolinecolor": "white",
           "zerolinewidth": 2
          },
          "yaxis": {
           "automargin": true,
           "gridcolor": "white",
           "linecolor": "white",
           "ticks": "",
           "title": {
            "standoff": 15
           },
           "zerolinecolor": "white",
           "zerolinewidth": 2
          }
         }
        },
        "title": {
         "text": "Volume by Time of Day"
        },
        "xaxis": {
         "anchor": "y",
         "domain": [
          0,
          1
         ],
         "title": {
          "text": "Time"
         }
        },
        "yaxis": {
         "anchor": "x",
         "domain": [
          0,
          1
         ],
         "title": {
          "text": "Volume"
         }
        }
       }
      }
     },
     "metadata": {},
     "output_type": "display_data"
    }
   ],
   "source": [
    "# I want to see the volumes over time\n",
    "nbsb = cleandata[cleandata['NBSB'] != 'other'].groupby(['Time', 'ID'])['Volume'].sum().reset_index()\n",
    "# Plotting\n",
    "fig = px.line(nbsb, x='Time', y='Volume', color='ID',  title='Volume by Time of Day - 15 min Volumes')\n",
    "fig.update_xaxes(title_text='Time')\n",
    "fig.update_yaxes(title_text='Volume')\n",
    "fig.show()"
   ]
  }
 ],
 "metadata": {
  "kernelspec": {
   "display_name": "Python 3",
   "language": "python",
   "name": "python3"
  },
  "language_info": {
   "codemirror_mode": {
    "name": "ipython",
    "version": 3
   },
   "file_extension": ".py",
   "mimetype": "text/x-python",
   "name": "python",
   "nbconvert_exporter": "python",
   "pygments_lexer": "ipython3",
   "version": "3.12.2"
  }
 },
 "nbformat": 4,
 "nbformat_minor": 2
}
