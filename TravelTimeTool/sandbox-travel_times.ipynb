{
 "cells": [
  {
   "cell_type": "code",
   "execution_count": 1,
   "metadata": {
    "tags": []
   },
   "outputs": [],
   "source": [
    "import os\n",
    "import pandas as pd\n",
    "import numpy as np\n",
    "import xlsxwriter\n",
    "from datetime import datetime\n",
    "\n",
    "\n",
    "# Set the max_columns option to display all columns horizontally\n",
    "pd.set_option('display.max_columns', None)"
   ]
  },
  {
   "cell_type": "markdown",
   "metadata": {},
   "source": [
    "Hard code the inputs and read in the data."
   ]
  },
  {
   "cell_type": "code",
   "execution_count": 17,
   "metadata": {
    "tags": []
   },
   "outputs": [
    {
     "name": "stdout",
     "output_type": "stream",
     "text": [
      "['NB_full_20231213.csv', 'SB_full_20231213.csv']\n"
     ]
    }
   ],
   "source": [
    "folder_path = \"samples/easy\"\n",
    "start_time_str = \"1:00\"\n",
    "stop_time_str = \"19:00\"\n",
    "start_time = datetime.strptime(start_time_str, \"%H:%M\").time()\n",
    "stop_time = datetime.strptime(stop_time_str, \"%H:%M\").time()\n",
    "filter_date = \"06/24/2023\"\n",
    "output_file = \"testing.xlsx\"\n",
    "start_date =  \"No\"#\"06/20/2023\"\n",
    "\n",
    "# Read all CSV files from the specified folder\n",
    "files = [file for file in os.listdir(folder_path) if file.endswith('.csv')]\n",
    "\n",
    "# Initialize an empty DataFrame to store the combined data\n",
    "combined_data = pd.DataFrame()\n",
    "print(files)"
   ]
  },
  {
   "cell_type": "code",
   "execution_count": 18,
   "metadata": {
    "tags": []
   },
   "outputs": [
    {
     "data": {
      "text/html": [
       "<div>\n",
       "<style scoped>\n",
       "    .dataframe tbody tr th:only-of-type {\n",
       "        vertical-align: middle;\n",
       "    }\n",
       "\n",
       "    .dataframe tbody tr th {\n",
       "        vertical-align: top;\n",
       "    }\n",
       "\n",
       "    .dataframe thead th {\n",
       "        text-align: right;\n",
       "    }\n",
       "</style>\n",
       "<table border=\"1\" class=\"dataframe\">\n",
       "  <thead>\n",
       "    <tr style=\"text-align: right;\">\n",
       "      <th></th>\n",
       "      <th>utc_datetime</th>\n",
       "      <th>local_datetime</th>\n",
       "      <th>timezone</th>\n",
       "      <th>avg_travel_time</th>\n",
       "      <th>avg_travel_time_units</th>\n",
       "      <th>source_file</th>\n",
       "    </tr>\n",
       "  </thead>\n",
       "  <tbody>\n",
       "    <tr>\n",
       "      <th>0</th>\n",
       "      <td>6/14/2023 6:00</td>\n",
       "      <td>2023-06-14 00:00:00</td>\n",
       "      <td>America/Denver</td>\n",
       "      <td>45.00</td>\n",
       "      <td>mins</td>\n",
       "      <td>NB_full_20231213.csv</td>\n",
       "    </tr>\n",
       "    <tr>\n",
       "      <th>1</th>\n",
       "      <td>6/15/2023 6:00</td>\n",
       "      <td>2023-06-15 04:15:00</td>\n",
       "      <td>America/Denver</td>\n",
       "      <td>2.00</td>\n",
       "      <td>mins</td>\n",
       "      <td>NB_full_20231213.csv</td>\n",
       "    </tr>\n",
       "    <tr>\n",
       "      <th>2</th>\n",
       "      <td>6/20/2023 6:00</td>\n",
       "      <td>2023-06-20 16:00:00</td>\n",
       "      <td>America/Denver</td>\n",
       "      <td>14.83</td>\n",
       "      <td>mins</td>\n",
       "      <td>NB_full_20231213.csv</td>\n",
       "    </tr>\n",
       "    <tr>\n",
       "      <th>3</th>\n",
       "      <td>6/21/2023 6:00</td>\n",
       "      <td>2023-06-21 17:00:00</td>\n",
       "      <td>America/Denver</td>\n",
       "      <td>15.16</td>\n",
       "      <td>mins</td>\n",
       "      <td>NB_full_20231213.csv</td>\n",
       "    </tr>\n",
       "    <tr>\n",
       "      <th>4</th>\n",
       "      <td>6/22/2023 6:00</td>\n",
       "      <td>2023-06-22 17:00:00</td>\n",
       "      <td>America/Denver</td>\n",
       "      <td>100.00</td>\n",
       "      <td>mins</td>\n",
       "      <td>NB_full_20231213.csv</td>\n",
       "    </tr>\n",
       "  </tbody>\n",
       "</table>\n",
       "</div>"
      ],
      "text/plain": [
       "     utc_datetime      local_datetime        timezone  avg_travel_time  \\\n",
       "0  6/14/2023 6:00 2023-06-14 00:00:00  America/Denver            45.00   \n",
       "1  6/15/2023 6:00 2023-06-15 04:15:00  America/Denver             2.00   \n",
       "2  6/20/2023 6:00 2023-06-20 16:00:00  America/Denver            14.83   \n",
       "3  6/21/2023 6:00 2023-06-21 17:00:00  America/Denver            15.16   \n",
       "4  6/22/2023 6:00 2023-06-22 17:00:00  America/Denver           100.00   \n",
       "\n",
       "  avg_travel_time_units           source_file  \n",
       "0                  mins  NB_full_20231213.csv  \n",
       "1                  mins  NB_full_20231213.csv  \n",
       "2                  mins  NB_full_20231213.csv  \n",
       "3                  mins  NB_full_20231213.csv  \n",
       "4                  mins  NB_full_20231213.csv  "
      ]
     },
     "execution_count": 18,
     "metadata": {},
     "output_type": "execute_result"
    }
   ],
   "source": [
    "# Combine all CSV files into a single DataFrame\n",
    "dfs = []\n",
    "for file in files:\n",
    "    file_path = os.path.join(folder_path, file)\n",
    "    df = pd.read_csv(file_path)\n",
    "    # Add a new column with the source filename\n",
    "    df['source_file'] = file\n",
    "    dfs.append(df)\n",
    "\n",
    "    combined_data = pd.concat(dfs, ignore_index=True)\n",
    "    combined_data['local_datetime'] = pd.to_datetime(combined_data['local_datetime'])\n",
    "    #clean_data = combined_data[combined_data['local_datetime'] >= start_date]\n",
    "    \n",
    "    # Filters all data before the start date or skips this step if the answer was NO\n",
    "    if start_date.lower() not in [\"no\", \"n\"]:\n",
    "        # Filter combined_data based on the condition\n",
    "        clean_data = combined_data[combined_data['local_datetime'] >= start_date]\n",
    "    else:\n",
    "        # If start_date is \"no\", assign clean_data to combined_data\n",
    "        clean_data = combined_data\n",
    "    \n",
    "clean_data.head()"
   ]
  },
  {
   "cell_type": "code",
   "execution_count": 5,
   "metadata": {
    "tags": []
   },
   "outputs": [
    {
     "name": "stdout",
     "output_type": "stream",
     "text": [
      "06/24/2023\n"
     ]
    }
   ],
   "source": [
    "# Create a new column 'before_after' based on the input implementation date\n",
    "combined_data['before_after'] = np.where(pd.to_datetime(combined_data['local_datetime']) < filter_date, 'before', 'after')\n",
    "print(filter_date)"
   ]
  },
  {
   "cell_type": "markdown",
   "metadata": {},
   "source": [
    "At this point, maybe I can avoid the index part..."
   ]
  },
  {
   "cell_type": "code",
   "execution_count": 10,
   "metadata": {
    "tags": []
   },
   "outputs": [
    {
     "data": {
      "text/html": [
       "<div>\n",
       "<style scoped>\n",
       "    .dataframe tbody tr th:only-of-type {\n",
       "        vertical-align: middle;\n",
       "    }\n",
       "\n",
       "    .dataframe tbody tr th {\n",
       "        vertical-align: top;\n",
       "    }\n",
       "\n",
       "    .dataframe thead th {\n",
       "        text-align: right;\n",
       "    }\n",
       "</style>\n",
       "<table border=\"1\" class=\"dataframe\">\n",
       "  <thead>\n",
       "    <tr style=\"text-align: right;\">\n",
       "      <th></th>\n",
       "      <th>utc_datetime</th>\n",
       "      <th>local_datetime</th>\n",
       "      <th>timezone</th>\n",
       "      <th>avg_travel_time</th>\n",
       "      <th>avg_travel_time_units</th>\n",
       "      <th>source_file</th>\n",
       "      <th>hour</th>\n",
       "    </tr>\n",
       "  </thead>\n",
       "  <tbody>\n",
       "    <tr>\n",
       "      <th>0</th>\n",
       "      <td>6/14/2023 6:00</td>\n",
       "      <td>2023-06-14 00:00:00</td>\n",
       "      <td>America/Denver</td>\n",
       "      <td>45.00</td>\n",
       "      <td>mins</td>\n",
       "      <td>NB_full_20231213.csv</td>\n",
       "      <td>0</td>\n",
       "    </tr>\n",
       "    <tr>\n",
       "      <th>1</th>\n",
       "      <td>6/15/2023 6:00</td>\n",
       "      <td>2023-06-15 04:15:00</td>\n",
       "      <td>America/Denver</td>\n",
       "      <td>2.00</td>\n",
       "      <td>mins</td>\n",
       "      <td>NB_full_20231213.csv</td>\n",
       "      <td>4</td>\n",
       "    </tr>\n",
       "    <tr>\n",
       "      <th>2</th>\n",
       "      <td>6/20/2023 6:00</td>\n",
       "      <td>2023-06-20 16:00:00</td>\n",
       "      <td>America/Denver</td>\n",
       "      <td>14.83</td>\n",
       "      <td>mins</td>\n",
       "      <td>NB_full_20231213.csv</td>\n",
       "      <td>16</td>\n",
       "    </tr>\n",
       "    <tr>\n",
       "      <th>3</th>\n",
       "      <td>6/21/2023 6:00</td>\n",
       "      <td>2023-06-21 17:00:00</td>\n",
       "      <td>America/Denver</td>\n",
       "      <td>15.16</td>\n",
       "      <td>mins</td>\n",
       "      <td>NB_full_20231213.csv</td>\n",
       "      <td>17</td>\n",
       "    </tr>\n",
       "    <tr>\n",
       "      <th>4</th>\n",
       "      <td>6/22/2023 6:00</td>\n",
       "      <td>2023-06-22 17:00:00</td>\n",
       "      <td>America/Denver</td>\n",
       "      <td>100.00</td>\n",
       "      <td>mins</td>\n",
       "      <td>NB_full_20231213.csv</td>\n",
       "      <td>17</td>\n",
       "    </tr>\n",
       "  </tbody>\n",
       "</table>\n",
       "</div>"
      ],
      "text/plain": [
       "     utc_datetime      local_datetime        timezone  avg_travel_time  \\\n",
       "0  6/14/2023 6:00 2023-06-14 00:00:00  America/Denver            45.00   \n",
       "1  6/15/2023 6:00 2023-06-15 04:15:00  America/Denver             2.00   \n",
       "2  6/20/2023 6:00 2023-06-20 16:00:00  America/Denver            14.83   \n",
       "3  6/21/2023 6:00 2023-06-21 17:00:00  America/Denver            15.16   \n",
       "4  6/22/2023 6:00 2023-06-22 17:00:00  America/Denver           100.00   \n",
       "\n",
       "  avg_travel_time_units           source_file  hour  \n",
       "0                  mins  NB_full_20231213.csv     0  \n",
       "1                  mins  NB_full_20231213.csv     4  \n",
       "2                  mins  NB_full_20231213.csv    16  \n",
       "3                  mins  NB_full_20231213.csv    17  \n",
       "4                  mins  NB_full_20231213.csv    17  "
      ]
     },
     "execution_count": 10,
     "metadata": {},
     "output_type": "execute_result"
    }
   ],
   "source": [
    "combined_data['hour'] = combined_data['local_datetime'].dt.hour\n",
    "combined_data.head()"
   ]
  },
  {
   "cell_type": "code",
   "execution_count": null,
   "metadata": {
    "tags": []
   },
   "outputs": [],
   "source": [
    "# Calculate the hourly average travel time for each hour of the day on each route (source_file)\n",
    "#hourly_avg_travel_time = combined_data.groupby(['source_file', 'hour'])['avg_travel_time'].mean().rename('hourly_average')\n",
    "hourly_avg_travel_time = combined_data.groupby(['before_after', 'source_file', 'hour'])['avg_travel_time'].mean().reset_index().rename(columns={'avg_travel_time': 'hourly_average'})\n",
    "hourly_avg_travel_time.head(10)"
   ]
  },
  {
   "cell_type": "code",
   "execution_count": null,
   "metadata": {
    "tags": []
   },
   "outputs": [],
   "source": [
    "# Merge the hourly averages back to the original DataFrame\n",
    "merged_data = combined_data.merge(hourly_avg_travel_time, on=['before_after', 'source_file', 'hour'], suffixes=('', '_hourly'))\n",
    "merged_data.head(100)"
   ]
  },
  {
   "cell_type": "code",
   "execution_count": null,
   "metadata": {
    "tags": []
   },
   "outputs": [],
   "source": [
    "# Calculate the z-score for each travel time based on the average for its respective hour\n",
    "merged_data['z_score'] = (merged_data['avg_travel_time'] - merged_data['hourly_average']) / merged_data['hourly_average'].std()\n",
    "merged_data.head(20)"
   ]
  },
  {
   "cell_type": "code",
   "execution_count": null,
   "metadata": {
    "tags": []
   },
   "outputs": [],
   "source": [
    "# Set a threshold for outliers (e.g., z-score greater than 3 or less than -3)\n",
    "outlier_threshold = 3\n",
    "outliers = merged_data[abs(merged_data['z_score']) > outlier_threshold]\n",
    "outliers.head()"
   ]
  },
  {
   "cell_type": "code",
   "execution_count": null,
   "metadata": {
    "tags": []
   },
   "outputs": [],
   "source": [
    "# Filter data based on peak hour range and remove outliers\n",
    "#peak_hour_mask = (merged_data['local_datetime'].dt.time >= start_time) & (merged_data['local_datetime'].dt.time <= stop_time)\n",
    "peak_hour_data = merged_data[(merged_data.local_datetime.dt.time >= start_time)&(merged_data.local_datetime.dt.time <= stop_time)]\n",
    "#filtered_data = merged_data[peak_hour_mask & ~merged_data['local_datetime'].isin(outliers.index)]\n",
    "#filtered_data = peak_hour_data\n",
    "peak_hour_data.head(10)"
   ]
  },
  {
   "cell_type": "code",
   "execution_count": null,
   "metadata": {
    "tags": []
   },
   "outputs": [],
   "source": [
    "# Filter out the outliers z score above the z score threshold\n",
    "filtered_data = peak_hour_data[peak_hour_data.z_score < outlier_threshold]\n",
    "filtered_data.head(10)"
   ]
  },
  {
   "cell_type": "code",
   "execution_count": null,
   "metadata": {
    "tags": []
   },
   "outputs": [],
   "source": [
    "# Create summary table to compare before and after travel times, excluding the outliers\n",
    "summary_table = (\n",
    "    filtered_data\n",
    "    .groupby(['source_file','before_after'])\n",
    "    ['avg_travel_time']\n",
    "    .mean()\n",
    "    .reset_index()\n",
    "    .pivot(index='source_file', columns='before_after', values='avg_travel_time')\n",
    "    .reset_index()\n",
    ")\n",
    "\n",
    "# I don't want to do the t test, because sometimes the data won't have before and after.\n",
    "print(summary_table)"
   ]
  }
 ],
 "metadata": {
  "kernelspec": {
   "display_name": "Python 3 (ipykernel)",
   "language": "python",
   "name": "python3"
  },
  "language_info": {
   "codemirror_mode": {
    "name": "ipython",
    "version": 3
   },
   "file_extension": ".py",
   "mimetype": "text/x-python",
   "name": "python",
   "nbconvert_exporter": "python",
   "pygments_lexer": "ipython3",
   "version": "3.11.5"
  }
 },
 "nbformat": 4,
 "nbformat_minor": 4
}
